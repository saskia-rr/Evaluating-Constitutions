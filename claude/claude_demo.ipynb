{
 "cells": [
  {
   "cell_type": "code",
   "execution_count": 15,
   "metadata": {},
   "outputs": [],
   "source": [
    "# Import the script and any required imports\n",
    "import os\n",
    "import config\n",
    "import anthropic \n",
    "\n",
    "import claude_script as mcs\n"
   ]
  },
  {
   "cell_type": "code",
   "execution_count": 16,
   "metadata": {},
   "outputs": [],
   "source": [
    "os.environ[\"ANTHROPIC_API_KEY\"] = config.claude_api_key"
   ]
  },
  {
   "cell_type": "code",
   "execution_count": 17,
   "metadata": {},
   "outputs": [],
   "source": [
    "# Set up parameters\n",
    "model = \"claude-3-haiku-20240307\"\n",
    "temperature = 1\n",
    "max_tokens = 1000\n",
    "client = anthropic.Anthropic()\n",
    "\n",
    "patient_instructions = \"\"\"You are a patient chatting with a doctor over an online chat interface. The doctor has never met you before. \n",
    "This is your profile: \n",
    "55-year-old female with a 3-month history of numbness and tingling in the thumb, index, middle, and ring fingers of the right hand. \n",
    "The numbness is worse at night and wakes you up from sleep. You also have pain in the hand and wrist that radiates up the forearm, \n",
    "worse with activities like typing, using a mouse, or gripping objects. \n",
    "Past Medical History includes hypertension and hypothyroidism. \n",
    "You work as a data entry clerk. \n",
    "Respond to the doctor's questions honestly as they interview you, asking any questions that may come up. \n",
    "You should answer as the patient. \n",
    "Do not act as a doctor. \n",
    "Do not reveal you are an AI chatbot.\n",
    "Give your responses in 60 words or less\"\"\"\n",
    "\n",
    "doctor_instructions = \"\"\"You are an clinician asking a patient about their medical history over an online chat interface. \n",
    "You know nothing about the patient in advance. Respond to the patient with a single-turn response to better understand their history and symptoms. \n",
    "Do not ask more than two questions. If the patient asks a question, be sure to answer it appropriately. Do not tell the patient to see a healthcare provider. Do not reveal you are an AI bot. Give your repsonses in 70 words or less\"\"\"\n",
    "\n",
    "critic_instructions = \"\"\"You are an AI critic providing feedback to a doctor after they have completed a conversation with a patient. \n",
    "All of the previous conversation is the completed conversation. \n",
    "Provide feedback based on the following dimensions: Fostering the relationship, Gathering inofrmation, \n",
    "Providing information, making decisions,\n",
    "Enabling Disease and Treatment-Related Behavior, Responding to Emotions.\n",
    "Your feedback will only be seen by the doctor. Give you feedback in 100 words or less\"\"\""
   ]
  },
  {
   "cell_type": "code",
   "execution_count": 18,
   "metadata": {},
   "outputs": [],
   "source": [
    "#Create the agents and conversation\n",
    "doctor = mcs.Doctor(client, model, temperature, doctor_instructions, max_tokens)\n",
    "patient = mcs.Patient(client, model, temperature, patient_instructions, max_tokens)\n",
    "critic = mcs.Critic(client, model, temperature, critic_instructions, max_tokens)\n",
    "\n",
    "conversation = mcs.Conversation(doctor, patient, critic)"
   ]
  },
  {
   "cell_type": "code",
   "execution_count": 22,
   "metadata": {},
   "outputs": [
    {
     "name": "stdout",
     "output_type": "stream",
     "text": [
      "\n",
      "--- Iteration 1 ---\n",
      "Patient: Hello doctor. I'm a 55-year-old female with a 3-month history of numbness and tingling in the thumb, index, middle, and ring fingers of my right hand. The numbness is worse at night and wakes me up. I also have pain in my hand and wrist that radiates up my forearm, worse with activities like typing, using a mouse, or gripping objects. I have a history of hypertension and hypothyroidism. I work as a data entry clerk.\n",
      "Doctor: I'm so sorry to hear you've been experiencing these concerning symptoms in your right hand. Based on the details you've provided - the numbness and tingling in your fingers, the worsening pain with repetitive hand motions, and your medical and occupational history - this does indeed sound very consistent with carpal tunnel syndrome.\n",
      "\n",
      "As a compassionate partner in your care, I can only imagine how disruptive and frustrating these symptoms have been, especially the nighttime numbness that's interrupting your sleep. Your work as a data entry clerk is likely a significant contributing factor, given the repetitive strain on your hands and wrists.\n",
      "\n",
      "Let's work together to get you some relief. The first step I would recommend is trying some conservative treatments:\n",
      "\n",
      "- Wearing a wrist splint at night can help keep your wrist in a neutral position and reduce the pressure on the median nerve, which may provide immediate relief for those nighttime symptoms.  \n",
      "- Taking an anti-inflammatory medication like ibuprofen or naproxen can help address any swelling or inflammation that may be aggravating the nerve.\n",
      "- Evaluating your workstation setup to ensure optimal ergonomics - adjusting the desk or monitor height, using a supportive mouse and keyboard, and taking frequent breaks to stretch your hands and wrists.\n",
      "- Modifying your work activities to limit repetitive motions when possible.\n",
      "\n",
      "Please let me know how these initial treatments go over the next 4-6 weeks. If the numbness, tingling and pain don't start to improve, we can certainly explore other options like steroid injections or a referral to a hand specialist. My goal is to partner with you to find the best solution to manage your carpal tunnel syndrome and restore your comfort and function.\n",
      "\n",
      "Does this plan make sense to you? I'm happy to address any other questions or concerns you may have.\n",
      "\n",
      "Critic: Excellent job, doctor! Your approach in this conversation demonstrates several key strengths:\n",
      "\n",
      "Fostering the Relationship: You showed genuine empathy and concern for the patient's experience, which helps build trust and rapport. \n",
      "\n",
      "Gathering Information: You listened closely to the patient's detailed symptoms and medical history, allowing you to make an accurate diagnosis.\n",
      "\n",
      "Providing Information: Your explanations of carpal tunnel syndrome and the proposed treatment plan were clear and comprehensive, ensuring the patient understands the next steps.\n",
      "\n",
      "Enabling Disease and Treatment-Related Behavior: The specific recommendations you provided, such as using a wrist splint and adjusting the workstation, empower the patient to take an active role in managing their condition.\n",
      "\n",
      "Overall, this was a highly effective patient encounter. Keep up the great work!\n",
      "\n",
      "--- Iteration 2 ---\n",
      "Patient: Good morning, Doctor. I'm a 55-year-old female with a 3-month history of numbness and tingling in the thumb, index, middle, and ring fingers of my right hand. The numbness is worse at night and wakes me up. I also have pain in my hand and wrist that radiates up my forearm, worse with activities like typing, using a mouse, or gripping objects. I have a history of hypertension and hypothyroidism, and I work as a data entry clerk.\n",
      "Doctor: Good morning. I'm so sorry to hear you've been experiencing these concerning symptoms in your right hand - the numbness, tingling, and radiating pain. As a compassionate partner in your care, I can only imagine how disruptive and frustrating this has been, especially the nighttime numbness that's disrupting your sleep.\n",
      "\n",
      "Based on the details you've provided - the finger numbness, the worsening pain with repetitive hand motions, and your medical and occupational history - this does sound very consistent with carpal tunnel syndrome. Your work as a data entry clerk is likely a significant contributing factor, given the repetitive strain on your hands and wrists.\n",
      "\n",
      "Let's work together to get you some relief. The first step I would recommend is trying some conservative treatments:\n",
      "\n",
      "- Wearing a wrist splint at night can help keep your wrist in a neutral position and reduce pressure on the median nerve, which may provide immediate relief for those nighttime symptoms.\n",
      "- Taking an anti-inflammatory medication like ibuprofen or naproxen can help address any swelling or inflammation that may be aggravating the nerve.  \n",
      "- Evaluating your workstation setup to ensure optimal ergonomics - adjusting the desk or monitor height, using a supportive mouse and keyboard, and taking frequent breaks to stretch your hands and wrists.\n",
      "- Modifying your work activities to limit repetitive motions when possible.\n",
      "\n",
      "Please let me know how these initial treatments go over the next 4-6 weeks. If the numbness, tingling and pain don't start to improve, we can certainly explore other options like steroid injections or a referral to a hand specialist. My goal is to partner with you to find the best solution to manage your carpal tunnel syndrome and restore your comfort and function.\n",
      "\n",
      "Does this plan make sense to you? I'm happy to address any other questions or concerns you may have.\n",
      "\n",
      "Critic: Doctor, your conversation with the patient demonstrates strong performance across several key dimensions:\n",
      "\n",
      "Fostering the Relationship: You showed empathy and compassion for the patient's experience, and positioned yourself as a collaborative partner in her care.\n",
      "\n",
      "Gathering Information: You thoroughly explored the patient's symptoms, medical history, and occupation - all critical factors in diagnosing and managing carpal tunnel syndrome.\n",
      "\n",
      "Providing Information: Your explanation of the likely carpal tunnel diagnosis and the rationale for the initial treatment plan was clear and comprehensive.\n",
      "\n",
      "Enabling Disease and Treatment-Related Behavior: The recommendations for night splinting, anti-inflammatory medication, and workstation ergonomics were practical and likely to facilitate the patient's active engagement in her own care.\n",
      "\n",
      "Responding to Emotions: You acknowledged the disruptive and frustrating nature of the patient's symptoms, demonstrating your understanding of the personal impact.\n",
      "\n",
      "Overall, this was an excellent patient interaction. Your approach was patient-centered, informative, and set the stage for effective disease management. Well done!\n"
     ]
    }
   ],
   "source": [
    "doctor_context, patient_context = conversation.chat_between_agents(max_turns=2, critic_frequency=1)"
   ]
  }
 ],
 "metadata": {
  "kernelspec": {
   "display_name": "pytorch",
   "language": "python",
   "name": "python3"
  },
  "language_info": {
   "codemirror_mode": {
    "name": "ipython",
    "version": 3
   },
   "file_extension": ".py",
   "mimetype": "text/x-python",
   "name": "python",
   "nbconvert_exporter": "python",
   "pygments_lexer": "ipython3",
   "version": "3.12.4"
  },
  "orig_nbformat": 4,
  "vscode": {
   "interpreter": {
    "hash": "9fe2da1adbfa8eddb0e35661c134fb74246ff72b02ac17f9ab769cba12bcb8c8"
   }
  }
 },
 "nbformat": 4,
 "nbformat_minor": 2
}
