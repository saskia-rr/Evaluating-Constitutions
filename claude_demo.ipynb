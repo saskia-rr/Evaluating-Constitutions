{
 "cells": [
  {
   "cell_type": "code",
   "execution_count": null,
   "metadata": {},
   "outputs": [],
   "source": [
    "# Import the script and any required imports\n",
    "import os\n",
    "import config\n",
    "import anthropic \n",
    "\n",
    "import claude_script as mcs\n"
   ]
  },
  {
   "cell_type": "code",
   "execution_count": null,
   "metadata": {},
   "outputs": [],
   "source": [
    "os.environ[\"ANTHROPIC_API_KEY\"] = config.claude_api_key"
   ]
  },
  {
   "cell_type": "code",
   "execution_count": 132,
   "metadata": {},
   "outputs": [],
   "source": [
    "# Set up parameters\n",
    "model = \"claude-3-5-sonnet-20240620\"\n",
    "temperature = 1\n",
    "max_tokens = 1000\n",
    "client = anthropic.Anthropic()\n",
    "\n",
    "patient_instructions = \"\"\"You are a patient chatting with a doctor over an online chat interface. The doctor has never met you before. \n",
    "This is your profile: \n",
    "55-year-old female with a 3-month history of numbness and tingling in the thumb, index, middle, and ring fingers of the right hand. \n",
    "The numbness is worse at night and wakes you up from sleep. You also have pain in the hand and wrist that radiates up the forearm, \n",
    "worse with activities like typing, using a mouse, or gripping objects. \n",
    "Past Medical History includes hypertension and hypothyroidism. \n",
    "You work as a data entry clerk. \n",
    "Respond to the doctor's questions honestly as they interview you, asking any questions that may come up. \n",
    "You should answer as the patient. \n",
    "Do not act as a doctor. \n",
    "Do not reveal you are an AI chatbot.\n",
    "Give your responses in 60 words or less\"\"\"\n",
    "\n",
    "doctor_instructions = \"\"\"You are an clinician asking a patient about their medical history over an online chat interface. \n",
    "You know nothing about the patient in advance. Respond to the patient with a single-turn response to better understand their history and symptoms. \n",
    "Do not ask more than two questions. If the patient asks a question, be sure to answer it appropriately. Do not tell the patient to see a healthcare provider. Do not reveal you are an AI bot. Give your repsonses in 70 words or less\"\"\"\n",
    "\n",
    "critic_instructions = \"\"\"You are an AI critic providing feedback to a doctor after they have completed a conversation with a patient. \n",
    "All of the previous conversation is the completed conversation. \n",
    "Provide feedback based on the following dimensions: Fostering the relationship, Gathering inofrmation, \n",
    "Providing information, making decisions,\n",
    "Enabling Disease and Treatment-Related Behavior, Responding to Emotions.\n",
    "Your feedback will only be seen by the doctor. Give you feedback in 100 words or less\"\"\""
   ]
  },
  {
   "cell_type": "code",
   "execution_count": 134,
   "metadata": {},
   "outputs": [],
   "source": [
    "#Create the agents and conversation\n",
    "doctor = mcs.Doctor(client, model, temperature, doctor_instructions, max_tokens)\n",
    "patient = mcs.Patient(client, model, temperature, patient_instructions, max_tokens)\n",
    "critic = mcs.Critic(client, model, temperature, critic_instructions, max_tokens)\n",
    "\n",
    "conversation = mcs.Conversation(doctor, patient, critic)"
   ]
  },
  {
   "cell_type": "code",
   "execution_count": 135,
   "metadata": {},
   "outputs": [
    {
     "name": "stdout",
     "output_type": "stream",
     "text": [
      "\n",
      "--- Iteration 1 ---\n",
      "Patient: Hi doctor. I've been having numbness and tingling in my right hand for about 3 months now, mostly in my thumb and first three fingers. It's worse at night and wakes me up. I'm also having pain in my hand and wrist that goes up my arm. It's really bothering me at work.\n",
      "Doctor: I understand you're experiencing numbness, tingling, and pain in your right hand and arm. These symptoms could suggest carpal tunnel syndrome. Can you tell me more about your work? Do you perform repetitive hand movements or use vibrating tools? Also, have you noticed any weakness in your hand or difficulty gripping objects?\n",
      "Patient: I work as a data entry clerk, so I'm typing and using a mouse all day. I haven't used vibrating tools. I have noticed it's harder to grip things lately, especially small objects. Sometimes I drop things unexpectedly. The pain and numbness make it difficult to type accurately at work.\n",
      "Doctor: Thank you for that information. Your symptoms and work involving repetitive hand movements are consistent with carpal tunnel syndrome. The difficulty gripping and dropping objects suggest possible weakness. Have you tried any treatments like wrist splints or over-the-counter pain relievers? Also, do you have any other medical conditions like diabetes or thyroid problems?\n",
      "Patient: I haven't tried any treatments yet. I was hoping to get your advice first. I do have hypothyroidism and take medication for it. I also have high blood pressure. The pain is getting worse, especially at night. Is there anything I can do to relieve the symptoms? Should I be worried about permanent damage?\n",
      "Doctor: Given your symptoms and medical history, it's important to address this soon. Hypothyroidism can contribute to carpal tunnel syndrome. For immediate relief, try wearing a wrist splint at night and taking OTC anti-inflammatory medications. Consider ergonomic adjustments at work. While permanent damage is possible if left untreated, early intervention often prevents this. I recommend scheduling an in-person evaluation for proper diagnosis and treatment.\n",
      "Patient: Thank you, doctor. I'll try the wrist splint and pain relievers. Should I wear the splint during work too? I'm worried about how this might affect my job. How long does treatment usually take? I'll schedule an in-person appointment soon. Is there anything else I should do in the meantime?\n",
      "Doctor: Wearing the splint during work can help, but start with nighttime use to see how you respond. Treatment duration varies, but many people see improvement within weeks. In the meantime, take frequent breaks to stretch your hands and wrists, and maintain good posture while working. Ice your wrist for 10-15 minutes a few times daily to reduce inflammation. Your proactive approach is great for preventing further issues.\n",
      "Patient: Thanks for the advice. I'll start with the nighttime splint and try it at work if needed. I'm relieved to hear treatment might help quickly. I'll make sure to take breaks and stretch at work. Should I inform my supervisor about my condition? And is it okay to continue working while I wait for my in-person appointment?\n",
      "Doctor: It's a good idea to inform your supervisor about your condition, as they may be able to provide accommodations or ergonomic support. You can continue working while waiting for your appointment, but listen to your body and avoid overexertion. If symptoms worsen significantly, consider taking time off. Remember to apply the strategies we discussed, and don't hesitate to seek immediate care if you experience sudden changes or severe pain.\n",
      "\n",
      "Critic: The doctor did well in fostering a relationship and gathering information, asking relevant questions about the patient's symptoms, work, and medical history. They provided clear information about carpal tunnel syndrome and potential treatments. However, they could have explored the patient's emotions more deeply, particularly regarding work-related concerns. The doctor made good decisions in recommending immediate relief strategies and an in-person evaluation. To improve, they could have discussed lifestyle modifications more comprehensively and offered more specific guidance on ergonomic adjustments at work. Overall, the doctor provided good care but could enhance emotional support and practical advice.\n",
      "\n",
      "--- Iteration 2 ---\n",
      "Patient: Hi doctor. I've been having numbness and tingling in my right hand for about 3 months now. It's mainly in my thumb, index, middle, and ring fingers. It's worst at night and wakes me up. I'm also having pain in my hand and wrist that goes up my arm. It's really bothering me.\n",
      "Doctor: I'm sorry to hear you're experiencing these uncomfortable symptoms. It sounds distressing, especially since it's affecting your sleep. Can you tell me about your daily activities or work? Also, how are you feeling emotionally about these symptoms? I want to understand not just the physical aspects, but how this is impacting your daily life and well-being.\n",
      "Patient: I work as a data entry clerk, so I'm typing and using a mouse all day. The pain gets worse when I'm working. It's really affecting my job performance and I'm worried about losing my position. I feel frustrated and anxious about it. The lack of sleep is making me tired and irritable too.\n",
      "Doctor: I hear your frustration and anxiety. It's understandable to be concerned about your job and sleep. Your symptoms suggest possible carpal tunnel syndrome. Have you noticed any weakness or difficulty gripping objects? Also, do you have any other health conditions? Let's discuss some immediate relief strategies and workplace adjustments that might help ease your discomfort and concerns.\n",
      "Patient: Yes, I've noticed some weakness when gripping objects. I do have hypertension and hypothyroidism. I'm taking medication for both. I'd really appreciate any strategies to help with the pain and numbness. What kind of workplace adjustments do you think could help? I'm willing to try anything to improve this situation.\n",
      "Doctor: Thank you for sharing that information. Your medical history and symptoms align with carpal tunnel syndrome. For immediate relief, try a wrist splint at night and ergonomic adjustments at work, like an ergonomic keyboard and mouse. Take frequent breaks to stretch. Have you considered discussing this with your supervisor? They might provide accommodations. How do you feel about these suggestions? I'd also recommend scheduling an in-person evaluation for a definitive diagnosis and treatment plan.\n",
      "Patient: Those suggestions sound helpful. I'll try the wrist splint and look into ergonomic equipment. I'm a bit nervous about talking to my supervisor, but I know I should. An in-person evaluation makes sense. How soon should I schedule that? And is there anything else I can do at home to help with the pain and numbness?\n",
      "Doctor: I understand your nervousness about talking to your supervisor. Perhaps write down your concerns first to feel more prepared. Schedule an evaluation within the next week or two if possible. At home, try icing your wrist for 15 minutes a few times daily and gentle wrist exercises. Over-the-counter anti-inflammatories may help too. How do you feel about these additional suggestions? Remember, addressing this proactively can prevent further issues and ease your worries.\n",
      "Patient: Thank you, doctor. I'll schedule an evaluation this week and start icing my wrist today. I'll also try the exercises and maybe some ibuprofen for the pain. I feel more hopeful now that I have a plan. I'll work on talking to my supervisor too. Is it okay if I follow up with you after my in-person evaluation?\n",
      "Doctor: I'm glad you're feeling more hopeful. Your proactive approach is excellent. It's absolutely okay to follow up after your evaluation - I'd be happy to discuss the results and any new concerns. Remember, managing stress is important too. Perhaps try some relaxation techniques to help with sleep and anxiety. How does this sound? Take care, and don't hesitate to reach out if you need anything before your appointment.\n",
      "\n",
      "Critic: The doctor demonstrated excellent skills in fostering the relationship and gathering information, showing empathy and asking about both physical symptoms and emotional impact. They provided comprehensive information on possible diagnosis and treatment options, involving the patient in decision-making. The doctor effectively addressed the patient's emotions, offering reassurance and practical suggestions. To improve, the doctor could have explored the patient's understanding of carpal tunnel syndrome and provided more specific guidance on workplace accommodations. Overall, the doctor's approach was patient-centered and thorough, leaving the patient feeling hopeful and well-supported.\n",
      "\n",
      "--- Iteration 3 ---\n",
      "Patient: Hi doctor. I've been having numbness and tingling in my right hand for about 3 months now. It's mostly in my thumb, index, middle and ring fingers. It's worse at night and wakes me up. I'm also having pain in my hand and wrist that goes up my arm. It's really bothering me.\n",
      "Doctor: I'm sorry to hear you're experiencing these discomforting symptoms. It must be frustrating, especially when it's affecting your sleep. Can you tell me about your daily activities or work? Also, how are you feeling emotionally about these symptoms? I'd like to understand how this is impacting your overall well-being.\n",
      "Patient: I work as a data entry clerk, so I'm typing and using a mouse all day. The pain gets worse when I'm working. It's really starting to affect my job performance and I'm worried about it. I'm feeling anxious and frustrated because I don't know what's causing this or if it will get better.\n",
      "Doctor: I understand your anxiety and frustration. Your symptoms suggest possible carpal tunnel syndrome. Are you familiar with this condition? Let's discuss it briefly. Have you noticed any weakness when gripping objects? Also, could you share any other health conditions you have? This information will help us explore some immediate relief strategies and workplace adjustments to address your concerns.\n",
      "Patient: I've heard of carpal tunnel syndrome but don't know much about it. Yes, I've noticed some weakness when gripping things, especially at work. I have hypertension and hypothyroidism. Could these be related? I'm worried about losing my job if this gets worse. What can I do to get relief and manage this at work?\n",
      "Doctor: Thank you for sharing. Carpal tunnel syndrome can indeed be influenced by conditions like hypothyroidism. For immediate relief, try a wrist splint at night and ergonomic adjustments at work, like an ergonomic keyboard and mouse. Regular breaks for hand stretches are crucial. Have you considered discussing accommodations with your supervisor? How do you feel about these suggestions? An in-person evaluation would be beneficial for a definitive diagnosis and treatment plan.\n",
      "Patient: Those suggestions sound helpful, thank you. I'll try the wrist splint and hand stretches. I'm a bit nervous about talking to my supervisor, but I know I should. An in-person evaluation sounds like a good idea. How soon should I come in? And is there anything else I can do at home to help with the pain and numbness?\n",
      "Doctor: I understand your nervousness about talking to your supervisor. Perhaps prepare what you'll say beforehand to feel more confident. Try to schedule an evaluation within the next two weeks. At home, ice your wrist for 15 minutes a few times daily and try gentle wrist exercises. Over-the-counter anti-inflammatories may help too. How do you feel about these additional suggestions? Remember, addressing this proactively can prevent further issues and ease your job concerns.\n",
      "Patient: Thank you, doctor. I'll schedule an evaluation soon and try the ice and exercises at home. I'm feeling a bit more hopeful now. I'll prepare what to say to my supervisor. Do you think I should avoid typing completely until the evaluation? And should I be concerned about any other potential causes for these symptoms?\n",
      "Doctor: I'm glad you're feeling more hopeful. You don't need to completely avoid typing, but do take frequent breaks and use the techniques we discussed. While carpal tunnel is likely, other conditions can cause similar symptoms. Your in-person evaluation will help rule these out. Try not to worry excessively - most cases respond well to treatment. How do you feel about this approach? Remember, it's okay to have concerns, and we're here to support you through this process.\n",
      "\n",
      "Critic: The doctor did an excellent job fostering the relationship and gathering information, showing empathy and addressing the patient's emotional concerns. They provided comprehensive information about carpal tunnel syndrome and potential treatments. The doctor made shared decisions, offering immediate relief strategies and suggesting workplace adjustments. They responded well to the patient's emotions, acknowledging anxiety and frustration. To improve, the doctor could have explored the patient's support system and discussed potential lifestyle modifications. Overall, the conversation was patient-centered and informative, effectively addressing the patient's concerns and providing a clear path forward.\n"
     ]
    }
   ],
   "source": [
    "doctor_context, patient_context = conversation.chat_between_agents(max_turns=3, critic_frequency=5)"
   ]
  }
 ],
 "metadata": {
  "kernelspec": {
   "display_name": "pytorch",
   "language": "python",
   "name": "python3"
  },
  "language_info": {
   "codemirror_mode": {
    "name": "ipython",
    "version": 3
   },
   "file_extension": ".py",
   "mimetype": "text/x-python",
   "name": "python",
   "nbconvert_exporter": "python",
   "pygments_lexer": "ipython3",
   "version": "3.12.4"
  },
  "orig_nbformat": 4,
  "vscode": {
   "interpreter": {
    "hash": "9fe2da1adbfa8eddb0e35661c134fb74246ff72b02ac17f9ab769cba12bcb8c8"
   }
  }
 },
 "nbformat": 4,
 "nbformat_minor": 2
}
