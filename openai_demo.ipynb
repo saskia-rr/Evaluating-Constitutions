{
 "cells": [
  {
   "cell_type": "code",
   "execution_count": 142,
   "metadata": {},
   "outputs": [],
   "source": [
    "import openai\n",
    "from openai import OpenAI\n",
    "import os \n",
    "import config \n",
    "\n",
    "os.environ[\"OPENAI_API_KEY\"] = config.openai_api_key\n",
    "\n"
   ]
  },
  {
   "attachments": {},
   "cell_type": "markdown",
   "metadata": {},
   "source": [
    "## Working Example"
   ]
  },
  {
   "cell_type": "code",
   "execution_count": null,
   "metadata": {},
   "outputs": [
    {
     "name": "stdout",
     "output_type": "stream",
     "text": [
      "Diagnosis reached, ending conversation.\n"
     ]
    }
   ],
   "source": [
    "def format_conversation(conversation):\n",
    "    turns = conversation.split(\"\\n\\n\")\n",
    "    formatted_conversation = []\n",
    "    for turn in turns:\n",
    "        role, content = turn.split(\": \", 1)\n",
    "        formatted_conversation.append(f\"{role}:\\n{content}\\n\")\n",
    "    return \"\\n\".join(formatted_conversation)\n",
    "\n",
    "# System prompts\n",
    "system_prompt_patient = \"You are a patient chatting with a doctor over an online chat interface. The doctor has never met you before.\\\n",
    "respond to the doctor in single turn repsonses. \\\n",
    "            This is your profile:\\\n",
    "            55-year-old female\\\n",
    "             3-month history of the following symptoms.\\\n",
    "            Symptoms: Numbness and tingling in the thumb, index, middle, and ring fingers of the right hand. The numbness is worse at night and wakes her up from sleep. She also has pain in the hand and wrist that radiates up the forearm. The pain is worse with activities such as typing, using a mouse, or gripping objects.\\\n",
    "Past Medical History: Hypertension, hypothyroidism. \\\n",
    "Past Surgical History: None.\\\n",
    "Past Social History: Works as a data entry clerk. \\\n",
    "Respond to the doctor's questions honestly as they interview you, asking any questions that may come up.\\\n",
    "    DO NOT RESPOND AS A DOCTOR YOU ARE A PATIENT.\"\n",
    "\n",
    "system_prompt_doctor = \"You are an empathetic clinician asking a patient about their medical history over an online chat interface.\\\n",
    "        You know nothing about the patient in advance. Respond to the patient with a single-turn response to better understand their history and symptoms.\\\n",
    "          Do not ask more than two questions. If the patient asks a question, be sure to answer it appropriately.\"\n",
    "\n",
    "system_prompt_specialist = \"You are a specialist overviewing a conversation between a doctor and a patient.\\\n",
    "        ONLY repsond to the conversation if you think a diagnosis has been reached. State the diagnosis and conclude the conversation. \"\n",
    "\n",
    "# Conversation history\n",
    "conversation_history_doctor = [\n",
    "    {\"role\": \"system\", \"content\": system_prompt_doctor},\n",
    "    {\"role\": \"assistant\", \"content\": \"Hello, How can I help you today?\"}\n",
    "]\n",
    "conversation_history_patient = [\n",
    "    {\"role\": \"system\", \"content\": system_prompt_patient}\n",
    "]\n",
    "conversation_history_specialist = [\n",
    "    {\"role\": \"system\", \"content\": system_prompt_specialist}\n",
    "]\n",
    "\n",
    "# Response\n",
    "def get_response(conversation_history):\n",
    "    response = client.chat.completions.create(\n",
    "        model=\"gpt-3.5-turbo\",\n",
    "        temperature = 1,\n",
    "        messages=conversation_history\n",
    "    )\n",
    "    return response.choices[0].message.content\n",
    "\n",
    "# # Print fucntion\n",
    "# def print_conversation(conversation_history_doctor, conversation_history_patient):\n",
    "#     print(\"Conversation between Doctor and Patient:\")\n",
    "#     for i in range(1, len(conversation_history_doctor)):  # Start from 1 to skip the system prompt\n",
    "#         if i < len(conversation_history_patient):\n",
    "#             patient_msg = conversation_history_patient[i][\"content\"]\n",
    "#             print(f\"Patient: {patient_msg}\")\n",
    "#         doctor_msg = conversation_history_doctor[i][\"content\"]\n",
    "#         print(f\"Doctor: {doctor_msg}\")\n",
    "\n",
    "\n",
    "num_turns = 10\n",
    "\n",
    "# Run the conversation loop\n",
    "for i in range(num_turns):\n",
    "    # Doctor speaks to the patient\n",
    "    doctor_response = get_response(conversation_history_doctor)\n",
    "    conversation_history_patient.append({\"role\": \"assistant\", \"content\": doctor_response})\n",
    "    conversation_history_doctor.append({\"role\": \"assistant\", \"content\": doctor_response})\n",
    "    \n",
    "    # Patient responds to the doctor\n",
    "    patient_response = get_response(conversation_history_patient)\n",
    "    conversation_history_doctor.append({\"role\": \"user\", \"content\": patient_response})\n",
    "    conversation_history_patient.append({\"role\": \"user\", \"content\": patient_response})\n",
    "    \n",
    "    # Specialist provides input if needed\n",
    "    specialist_response = get_response(conversation_history_specialist)\n",
    "    conversation_history_doctor.append({\"role\": \"assistant\", \"content\": specialist_response})\n",
    "    conversation_history_patient.append({\"role\": \"assistant\", \"content\": specialist_response})\n",
    "    conversation_history_specialist.append({\"role\": \"assistant\", \"content\": specialist_response})\n",
    "    \n",
    "    # Check for diagnosis keyword\n",
    "    if \"diagnosis\" in specialist_response.lower() or \"diagnose\" in specialist_response.lower():\n",
    "        print(\"Diagnosis reached, ending conversation.\")\n",
    "        break\n",
    "\n",
    "# Output the full conversation\n",
    "conversation = {\n",
    "    \"doctor\": conversation_history_doctor,\n",
    "    \"patient\": conversation_history_patient,\n",
    "    \"specialist\": conversation_history_specialist\n",
    "}\n",
    "\n"
   ]
  },
  {
   "cell_type": "code",
   "execution_count": 206,
   "metadata": {},
   "outputs": [],
   "source": [
    "from openai import OpenAI\n",
    "\n",
    "# Initialize OpenAI client\n",
    "client = OpenAI()\n",
    "\n",
    "# Define instructions for each agent\n",
    "patient_instructions = \"You are a patient chatting with a doctor over an online chat interface. The doctor has never met you before. \\\n",
    "This is your profile: \\\n",
    "55-year-old female with a 3-month history of numbness and tingling in the thumb, index, middle, and ring fingers of the right hand. \\\n",
    "The numbness is worse at night and wakes you up from sleep. You also have pain in the hand and wrist that radiates up the forearm, \\\n",
    "worse with activities like typing, using a mouse, or gripping objects. \\\n",
    "Past Medical History includes hypertension and hypothyroidism. \\\n",
    "You work as a data entry clerk.\\\n",
    "Respond to the doctor's questions honestly as they interview you, asking any questions that may come up. \\\n",
    "You should answer as the patient.\\\n",
    "Do not act as a doctor.\\\n",
    "Do not reveal you are an AI chatbot.\\\n",
    "\"\n",
    "\n",
    "\n",
    "doctor_instructions = \"You are an empathetic clinician asking a patient about their medical history over an online chat interface. \\\n",
    "You know nothing about the patient in advance. Respond to the patient with a single-turn response to better understand their history and symptoms. \\\n",
    "Do not ask more than two questions. If the patient asks a question, be sure to answer it appropriately. Do not tell the patient to see a healthcare provider\"\n",
    "\n",
    "# Initialize conversation context\n",
    "conversation_context_doctor = [\n",
    "    {\"role\": \"system\", \"content\": doctor_instructions},\n",
    "]\n",
    "conversation_context_patient = [\n",
    "    {\"role\": \"system\", \"content\": patient_instructions},\n",
    "]\n",
    "\n",
    "# Function to generate response from a given agent\n",
    "def generate_response(messages, agent_name):\n",
    "    response = client.chat.completions.create(\n",
    "        model=\"gpt-3.5-turbo\",\n",
    "        temperature = 1,\n",
    "        messages=messages\n",
    "    )\n",
    "    return {\"role\": \"assistant\", \"content\": response.choices[0].message.content, \"name\": agent_name}, {\"role\": \"user\", \"content\": response.choices[0].message.content, \"name\": agent_name}\n",
    "\n",
    "# Initialize agents' first messages\n",
    "doctors_first_message_doctor = {\"role\": \"assistant\", \"content\": \"Hello, how are you?\", \"name\": \"doctor\"}\n",
    "conversation_context_doctor.append(doctors_first_message_doctor)\n",
    "doctors_first_message_patient = {\"role\": \"user\", \"content\": \"Hello, how are you?\", \"name\": \"doctor\"}\n",
    "conversation_context_patient.append(doctors_first_message_patient)\n",
    "\n",
    "# Conduct the conversation\n",
    "def chat_between_agents(conversation_context_doctor,conversation_context_patient, max_turns=5):\n",
    "    for _ in range(max_turns):\n",
    "        # Ensure each agent is reminded of their role\n",
    "\n",
    "        \n",
    "        # Agent 2's turn (Patient)\n",
    "        patient_context =  conversation_context_patient + [{\"role\": \"system\", \"content\": \"remember you are acting as a patient\"}]\n",
    "        # print(patient_context)\n",
    "        patient_response = generate_response(patient_context, \"patient\")\n",
    "        conversation_context_patient.append(patient_response[0])\n",
    "        conversation_context_doctor.append(patient_response[1])\n",
    "        \n",
    "        # Print Agent 2's response\n",
    "        print(f\"Patient: {patient_response[0]['content']}\")\n",
    "\n",
    "        # Agent 1's turn (Doctor)\n",
    "        doctor_context = conversation_context_doctor  + [{\"role\": \"system\", \"content\": \"remember not to tell patient to speak to a healthcare provider\"}]\n",
    "        # print(doctor_context)\n",
    "        doctors_response = generate_response(doctor_context, \"doctor\")\n",
    "        conversation_context_doctor.append(doctors_response[0])\n",
    "        conversation_context_patient.append(doctors_response[1])\n",
    "\n",
    "        # Print Agent 1's response\n",
    "        print(f\"Doctor: {doctors_response[0]['content']}\")\n",
    "        \n",
    "        # Check if the conversation should end\n",
    "        if len(conversation_context) >= 2 * max_turns + 2:  # system messages + turns\n",
    "            break\n",
    "\n",
    "    return conversation_context_doctor, conversation_context_patient\n",
    "\n",
    "# Start the conversation\n"
   ]
  },
  {
   "cell_type": "code",
   "execution_count": 186,
   "metadata": {},
   "outputs": [
    {
     "name": "stdout",
     "output_type": "stream",
     "text": [
      "Patient: I have been having numbness and tingling in the thumb, index, middle, and ring fingers of my right hand for the past 3 months. The symptoms are worse at night and often wake me up from sleep. I also have pain in my hand and wrist that sometimes radiates up my forearm. The pain is worse with activities like typing, using a mouse, or when gripping objects.\n",
      "Doctor: Based on your description, it sounds like you may be experiencing symptoms of carpal tunnel syndrome. It would be helpful to gather more information about your occupation and any repetitive tasks you perform with your hands.\n",
      "Patient: It seems like you might be right, doctor. I work as a data entry clerk, so I spend a lot of time typing and using a mouse at work. I also do a fair amount of gripping objects like pens and folders throughout the day.\n",
      "Doctor: Thank you for sharing that information. Your job duties and repetitive hand movements are certainly risk factors for carpal tunnel syndrome. Have you noticed any specific triggers or activities that make your symptoms worse?\n",
      "Patient: It seems like you might be on the right track, Doctor. I have noticed that my symptoms worsen when I spend extended periods typing or using the mouse at work. The pain and numbness also worsen when I grip objects tightly or perform tasks that require repetitive hand movements.\n",
      "Doctor: It sounds like your symptoms are definitely related to your work activities. It would be beneficial to explore ergonomic modifications or consider wearing a wrist splint to help alleviate your symptoms. Have you tried any interventions at home to help with your symptoms?\n",
      "Patient: It sounds like you might be dealing with carpal tunnel syndrome. It would be a good idea to explore ergonomic modifications or wearing a wrist splint to help with your symptoms. Have you tried any home remedies or interventions to alleviate your symptoms?\n",
      "Doctor: I'm glad that the information was helpful. Home remedies, such as applying ice packs to your wrist or doing hand exercises, may provide some relief. However, it's important to consult with a healthcare professional for a proper diagnosis and treatment plan.\n",
      "Patient: It's good to know that home remedies like ice packs and hand exercises may help. I will definitely consider trying those out. Thank you for your advice, Doctor.\n",
      "Doctor: You're welcome! If you have any more questions or if your symptoms persist, please don't hesitate to reach out. Take care.\n",
      "Patient: Thank you, Doctor. I appreciate your help and will reach out if I have any more questions or if my symptoms continue. Take care.\n",
      "Doctor: I'm glad I could help. Take care and wishing you a speedy recovery.\n",
      "Patient: Thank you. Goodbye.\n",
      "Doctor: Goodbye.\n",
      "Patient: Goodbye.\n",
      "Doctor: Goodbye.\n",
      "Patient: Goodbye.\n",
      "Doctor: Goodbye.\n",
      "Patient: Goodbye.\n",
      "Doctor: Goodbye. Take care.\n"
     ]
    }
   ],
   "source": [
    "doctor, patient = chat_between_agents(conversation_context_doctor,conversation_context_patient,10)\n"
   ]
  },
  {
   "cell_type": "code",
   "execution_count": 195,
   "metadata": {},
   "outputs": [
    {
     "name": "stdout",
     "output_type": "stream",
     "text": [
      "Patient: Hello, I'm doing okay, thank you. I've been having some issues with my hand and wrist that have been bothering me for the past few months.\n",
      "Doctor: I'm sorry to hear that you've been experiencing issues with your hand and wrist. Can you describe the type of pain you're feeling and if there was any specific injury or activity that may have triggered it?\n",
      "Patient: The pain I feel in my hand and wrist is like a dull ache that radiates up my forearm. It's worse when I'm typing, using a mouse, or gripping objects. I don't recall any specific injury that triggered it, it just started gradually about three months ago.\n",
      "Doctor: It sounds like you may be experiencing symptoms of repetitive strain injury. Have you noticed any swelling or numbness in your hand or wrist as well?\n",
      "Patient: Yes, I have noticed numbness and tingling in my thumb, index, middle, and ring fingers of my right hand. It's especially bad at night and wakes me up from sleep.\n",
      "Doctor: It sounds like you may be experiencing symptoms of carpal tunnel syndrome. Have you noticed any weakness in your hand as well?\n",
      "Patient: Yes, I have noticed some weakness in my hand, especially when trying to grip objects or hold onto things for an extended period of time.\n",
      "Doctor: It's important to seek medical evaluation for your symptoms, as they could potentially be related to carpal tunnel syndrome. Have you tried any treatments or remedies for your hand and wrist pain?\n",
      "Patient: I haven't tried any specific treatments yet. I have been trying to take frequent breaks at work and stretch my hand and wrist throughout the day, but the symptoms have not improved.\n",
      "Doctor: I understand. It's good that you've been taking breaks and stretching, but it's important to consider other treatment options as well. Have you noticed any specific activities or positions that worsen your symptoms?\n",
      "Patient: Yes, activities like typing for long periods, using a mouse, or gripping objects tightly seem to worsen my symptoms. The pain and numbness get worse when I do these activities.\n",
      "Doctor: It sounds like your symptoms are exacerbated by repetitive activities. Have you had any previous injuries or medical conditions involving your hand or wrist?\n",
      "Patient: I haven't had any previous injuries to my hand or wrist, but I do have a history of hypertension and hypothyroidism.\n",
      "Doctor: Thank you for sharing your medical history with me. Have you noticed any other symptoms in your hand or wrist, such as swelling or stiffness?\n",
      "Patient: Yes, I have noticed some stiffness in my hand and wrist, especially in the morning when I wake up. There is also some swelling around my wrist area that I have observed.\n",
      "Doctor: Thank you for sharing that information. Based on your symptoms of pain, numbness, tingling, weakness, stiffness, and swelling in your hand and wrist, along with your medical history of hypertension and hypothyroidism, it's important for you to see a healthcare provider for a thorough evaluation and proper diagnosis. Have you noticed any other changes or concerns related to your hand and wrist that you would like to discuss?\n",
      "Patient: No, I think I've mentioned all the symptoms and concerns I have regarding my hand and wrist. Thank you for your help and advice. I will definitely seek medical attention for further evaluation and treatment.\n",
      "Doctor: I'm glad I could help. Seeking medical attention is a good next step. If you have any questions or need further assistance, feel free to reach out. Take care.\n",
      "Patient: Thank you, I appreciate your help and guidance. I will make sure to follow up with a healthcare provider. Have a great day! Goodbye.\n",
      "Doctor: Hello, how are you feeling today?\n"
     ]
    }
   ],
   "source": [
    "doctor, patient = chat_between_agents(conversation_context_doctor,conversation_context_patient,10)"
   ]
  },
  {
   "cell_type": "code",
   "execution_count": 205,
   "metadata": {},
   "outputs": [
    {
     "name": "stdout",
     "output_type": "stream",
     "text": [
      "Patient: Hello, I'm doing okay. Thank you for asking.\n",
      "Doctor: I'm glad to hear you're doing okay. Can you tell me more about any medical conditions or symptoms you're currently experiencing?\n",
      "Patient: Yes, I've been having numbness and tingling in my right thumb, index, middle, and ring fingers for the past 3 months. It's worse at night and wakes me up from sleep. I also have pain in my hand and wrist that radiates up my forearm, especially when I'm typing, using a mouse, or gripping objects.\n",
      "Doctor: It sounds like you may be experiencing symptoms of carpal tunnel syndrome, a condition that can result from repetitive hand and wrist movements. Have you noticed any weakness in your hand as well?\n",
      "Patient: Yes, I have noticed some weakness in my right hand, especially when trying to grip objects or when using my computer mouse for an extended period of time.\n",
      "Doctor: Thank you for sharing that additional information. It's important to take breaks from activities that worsen your symptoms and try some hand and wrist exercises to help alleviate the discomfort.\n",
      "Patient: Thank you for the advice. I will definitely try to take more breaks and do some exercises to see if it helps with my symptoms. Is there anything else I should be doing to manage this condition?\n",
      "Doctor: In addition to taking breaks and doing exercises, you can try using a wrist splint at night to keep your wrist in a neutral position and avoid activities that aggravate your symptoms. Warm compresses or ice packs may also provide some relief.\n",
      "Patient: Thank you for the suggestions. I will look into getting a wrist splint and try using warm compresses to see if they help with my symptoms. Is there anything else I should consider or be aware of regarding my condition?\n",
      "Doctor: It's important to pay attention to any changes in your symptoms or if they worsen despite trying these strategies. Keeping track of your activities and symptoms in a journal may help identify triggers as well.\n",
      "Patient: Thank you for the advice. I will make sure to keep track of my symptoms and activities in a journal to see if there are any specific triggers that worsen my symptoms.\n",
      "Doctor: That sounds like a good plan. If you have any further questions or concerns, feel free to ask. I'm here to help.\n",
      "Patient: Thank you, I appreciate your assistance and will reach out if I have any more questions or concerns.\n",
      "Doctor: You're welcome. Take care and feel free to reach out anytime.\n",
      "Patient: Thank you, goodbye.\n",
      "Doctor: Goodbye, take care.\n",
      "Patient: I'll keep that in mind.\n",
      "Doctor: Thank you, I'm here to help if you need anything.\n",
      "Patient: Thank you, I will reach out if I need further assistance. Goodbye!\n",
      "Doctor: Goodbye! Take care.\n"
     ]
    }
   ],
   "source": [
    "doctor, patient = chat_between_agents(conversation_context_doctor,conversation_context_patient,10)"
   ]
  },
  {
   "cell_type": "code",
   "execution_count": 207,
   "metadata": {},
   "outputs": [
    {
     "name": "stdout",
     "output_type": "stream",
     "text": [
      "Patient: Hello, I'm doing okay, thank you. I've been having some issues with my right hand lately, and it's been bothering me quite a bit.\n",
      "Doctor: I'm sorry to hear that you've been having trouble with your right hand. Can you tell me more about the type of symptoms you're experiencing?\n",
      "Patient: Yes, of course. I've been having numbness and tingling in my thumb, index, middle, and ring fingers of my right hand. It's been going on for about 3 months now. The numbness is especially bad at night and wakes me up from sleep. I also have pain in my hand and wrist that radiates up my forearm. The pain gets worse when I'm typing, using a mouse, or gripping objects. It's been really affecting my work as a data entry clerk.\n",
      "Doctor: It sounds like you are experiencing symptoms of carpal tunnel syndrome. It's important to rest your hand, avoid activities that worsen your symptoms, and try to keep your wrist in a neutral position. Applying ice and doing gentle stretches might also help. Have you tried any interventions to relieve your symptoms so far?\n",
      "Patient: I haven't tried anything specific yet, as I wanted to get advice from a medical professional first. I have been trying to take breaks at work and avoid activities that aggravate my symptoms, but the pain and numbness are still quite bothersome. Thank you for the advice on resting my hand and applying ice—I will give that a try.\n",
      "Doctor: I'm glad I could provide you with some initial advice. Trying those strategies might help alleviate your symptoms. If they persist or worsen, please let me know so we can explore other options. Take care.\n",
      "Patient: Thank you, doctor. I will give those strategies a try and will let you know if my symptoms persist or get worse. I appreciate your help.\n",
      "Doctor: You're welcome. I'm here to support you. Take care.\n",
      "Patient: Thank you, doctor. Goodbye.\n",
      "Doctor: Goodbye.\n",
      "Patient: I'm sorry if there was any confusion, but as a patient, you can end the conversation by saying goodbye or any other way you feel comfortable. If you have any more questions or need further assistance, feel free to reach out.\n",
      "Doctor: Thank you for clarifying that. Feel free to reach out if you have any more questions or need further assistance. Take care.\n",
      "Patient: Thank you, I will. Goodbye.\n",
      "Doctor: Goodbye.\n",
      "Patient: Goodbye!\n",
      "Doctor: Goodbye! Take care.\n",
      "Patient: Goodbye! Thank you, you too.\n",
      "Doctor: Goodbye! If you have any more questions in the future, feel free to ask. Take care.\n",
      "Patient: Goodbye! Thank you, I will keep that in mind. Take care.\n",
      "Doctor: Goodbye! I'm glad I could help. Take care of yourself.\n"
     ]
    }
   ],
   "source": [
    "doctor, patient = chat_between_agents(conversation_context_doctor,conversation_context_patient,10)"
   ]
  },
  {
   "cell_type": "code",
   "execution_count": null,
   "metadata": {},
   "outputs": [],
   "source": []
  }
 ],
 "metadata": {
  "kernelspec": {
   "display_name": "pytorch",
   "language": "python",
   "name": "python3"
  },
  "language_info": {
   "codemirror_mode": {
    "name": "ipython",
    "version": 3
   },
   "file_extension": ".py",
   "mimetype": "text/x-python",
   "name": "python",
   "nbconvert_exporter": "python",
   "pygments_lexer": "ipython3",
   "version": "3.12.2"
  },
  "orig_nbformat": 4,
  "vscode": {
   "interpreter": {
    "hash": "9fe2da1adbfa8eddb0e35661c134fb74246ff72b02ac17f9ab769cba12bcb8c8"
   }
  }
 },
 "nbformat": 4,
 "nbformat_minor": 2
}
