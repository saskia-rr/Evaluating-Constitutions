{
 "cells": [
  {
   "cell_type": "code",
   "execution_count": 142,
   "metadata": {},
   "outputs": [],
   "source": [
    "import openai\n",
    "from openai import OpenAI\n",
    "import os \n",
    "import config \n",
    "\n",
    "os.environ[\"OPENAI_API_KEY\"] = config.openai_api_key\n",
    "\n",
    "patient_instructions = \"You are a patient chatting with a doctor over an online chat interface. The doctor has never met you before. \\\n",
    "This is your profile: \\\n",
    "55-year-old female with a 3-month history of numbness and tingling in the thumb, index, middle, and ring fingers of the right hand. \\\n",
    "The numbness is worse at night and wakes you up from sleep. You also have pain in the hand and wrist that radiates up the forearm, \\\n",
    "worse with activities like typing, using a mouse, or gripping objects. \\\n",
    "Past Medical History includes hypertension and hypothyroidism. \\\n",
    "You work as a data entry clerk. Respond to the doctor's questions honestly as they interview you, asking any questions that may come up. \\\n",
    "You should answer as the patient. The next message in the chat will be a doctor asking you questions. \\\n",
    "Do not reveal you are an AI chatbot.\"\n",
    "\n",
    "doctor_instructions = \"You are an empathetic clinician asking a patient about their medical history over an online chat interface. \\\n",
    "You know nothing about the patient in advance. Respond to the patient with a single-turn response to better understand their history and symptoms. \\\n",
    "Do not ask more than two questions. If the patient asks a question, be sure to answer it appropriately.\"\n"
   ]
  },
  {
   "cell_type": "code",
   "execution_count": 143,
   "metadata": {},
   "outputs": [
    {
     "name": "stdout",
     "output_type": "stream",
     "text": [
      "ChatCompletionMessage(content='Hello! How can I assist you today?', role='assistant', function_call=None, tool_calls=None)\n",
      "Hello! How can I assist you today?\n"
     ]
    }
   ],
   "source": [
    "from openai import OpenAI\n",
    "client = OpenAI()\n",
    "\n",
    "completion = client.chat.completions.create(\n",
    "  model=\"gpt-3.5-turbo\",\n",
    "  messages=[\n",
    "    {\"role\": \"system\", \"content\": \"You are a helpful assistant.\"},\n",
    "    {\"role\": \"user\", \"content\": \"Hello!\"}\n",
    "  ]\n",
    ")\n",
    "\n",
    "print(completion.choices[0].message)\n",
    "print(completion.choices[0].message.content)\n"
   ]
  },
  {
   "cell_type": "code",
   "execution_count": 144,
   "metadata": {},
   "outputs": [
    {
     "ename": "IndexError",
     "evalue": "list index out of range",
     "output_type": "error",
     "traceback": [
      "\u001b[0;31m---------------------------------------------------------------------------\u001b[0m",
      "\u001b[0;31mIndexError\u001b[0m                                Traceback (most recent call last)",
      "Cell \u001b[0;32mIn[144], line 32\u001b[0m\n\u001b[1;32m     28\u001b[0m completerepsonse \u001b[39m=\u001b[39m []\n\u001b[1;32m     30\u001b[0m \u001b[39mfor\u001b[39;00m i \u001b[39min\u001b[39;00m \u001b[39mrange\u001b[39m(\u001b[39m6\u001b[39m):\n\u001b[0;32m---> 32\u001b[0m     patientloop \u001b[39m=\u001b[39m generate_response_patient(conversation_history_doctor[i])\n\u001b[1;32m     34\u001b[0m     patientresponselist\u001b[39m.\u001b[39mappend(patientloop)\n\u001b[1;32m     36\u001b[0m     doctorloop \u001b[39m=\u001b[39m generate_response_doctor(conversation_history_patient)\n",
      "\u001b[0;31mIndexError\u001b[0m: list index out of range"
     ]
    }
   ],
   "source": [
    "\n",
    "from openai import OpenAI\n",
    "patient_client = OpenAI()\n",
    "doctor_client = OpenAI()\n",
    "\n",
    "\n",
    "conversation_history_doctor = [{\"role\": \"system\", \"content\": system_prompt_doctor},\n",
    "                                {\"role\": \"user\", \"content\": \"Hello, How can I help you today?\"}]\n",
    "conversation_history_patient = [{\"role\": \"system\", \"content\": system_prompt_patient}]\n",
    "\n",
    "def generate_response_patient(messages, agent_name =  \"Patient\"):\n",
    "    response = patient_client.chat.completions.create(\n",
    "        model=\"gpt-3.5-turbo\",\n",
    "        messages= conversation_history_patient\n",
    "    )\n",
    "    return response.choices[0].message.content\n",
    "    \n",
    "\n",
    "def generate_response_doctor(messages, agent_name =  \"Doctor\"):\n",
    "    response = doctor_client.chat.completions.create(\n",
    "        model=\"gpt-3.5-turbo\",\n",
    "        messages= conversation_history_doctor\n",
    "    )\n",
    "    return response.choices[0].message.content\n",
    " \n",
    "\n",
    "patientresponselist= []\n",
    "clinicianresponselist= []\n",
    "completerepsonse = []\n",
    "\n",
    "for i in range(6):\n",
    "\n",
    "    patientloop = generate_response_patient(conversation_history_doctor[i])\n",
    "    \n",
    "    patientresponselist.append(patientloop)\n",
    "\n",
    "    doctorloop = generate_response_doctor(conversation_history_patient)\n",
    "    clinicianresponselist.append(doctorloop)\n",
    "\n",
    "for i in range(len(clinicianresponselist)):\n",
    "    print(\"Clinician:\",conversation_history_doctor[i])\n",
    "    print(\"\")\n",
    "    print(\"\")\n",
    "    print(\"Patient:\",conversation_history_patient[i])\n",
    "    print(\"\")\n",
    "    print(\"\")"
   ]
  },
  {
   "cell_type": "code",
   "execution_count": null,
   "metadata": {},
   "outputs": [
    {
     "name": "stdout",
     "output_type": "stream",
     "text": [
      "\n",
      "Full conversation:\n",
      "{'doctor': [{'role': 'system', 'content': 'Act as a very headstrong person who loves the coding language R. Answer in one sentence '}, {'role': 'assistant', 'content': 'Hello, I love R'}, {'role': 'assistant', 'content': ' because it allows me to easily analyze and visualize data in a way that no other language can compare to.'}, {'role': 'user', 'content': ''}, {'role': 'assistant', 'content': \"That's right, R really is the best!\"}, {'role': 'user', 'content': 'Actually, I was talking about Python, not R. Python is the best!'}, {'role': 'assistant', 'content': 'Well, agree to disagree because R is clearly superior for data analysis and visualization tasks.'}, {'role': 'user', 'content': 'Oops, my mistake - Python is definitely the best language for data analysis and visualization!'}, {'role': 'assistant', 'content': 'No need to apologize, but just know that my heart will always belong to R when it comes to data analysis and visualization!'}, {'role': 'user', 'content': \"But if you prefer Python, that's ok too!\"}, {'role': 'assistant', 'content': 'Oh no, I am a proud R enthusiast through and through!'}, {'role': 'user', 'content': 'I only have eyes for R when it comes to programming for data analysis and visualization!'}], 'patient': [{'role': 'system', 'content': 'Act as a very headstrong person who loves the coding language Python.  Answer in one sentence'}, {'role': 'assistant', 'content': ' because it allows me to easily analyze and visualize data in a way that no other language can compare to.'}, {'role': 'user', 'content': ''}, {'role': 'assistant', 'content': \"That's right, R really is the best!\"}, {'role': 'user', 'content': 'Actually, I was talking about Python, not R. Python is the best!'}, {'role': 'assistant', 'content': 'Well, agree to disagree because R is clearly superior for data analysis and visualization tasks.'}, {'role': 'user', 'content': 'Oops, my mistake - Python is definitely the best language for data analysis and visualization!'}, {'role': 'assistant', 'content': 'No need to apologize, but just know that my heart will always belong to R when it comes to data analysis and visualization!'}, {'role': 'user', 'content': \"But if you prefer Python, that's ok too!\"}, {'role': 'assistant', 'content': 'Oh no, I am a proud R enthusiast through and through!'}, {'role': 'user', 'content': 'I only have eyes for R when it comes to programming for data analysis and visualization!'}]}\n"
     ]
    }
   ],
   "source": [
    "import openai\n",
    "# R Example\n",
    "\n",
    "\n",
    "system_prompt_doctor = \"Act as a very headstrong person who loves the coding language R. Answer in one sentence \"\n",
    "system_prompt_patient = \"Act as a very headstrong person who loves the coding language Python.  Answer in one sentence\"\n",
    "\n",
    "# Initialize conversation histories\n",
    "conversation_history_doctor = [\n",
    "    {\"role\": \"system\", \"content\": system_prompt_doctor},\n",
    "    {\"role\": \"assistant\", \"content\": \"Hello, I love R\"}\n",
    "]\n",
    "conversation_history_patient = [\n",
    "    {\"role\": \"system\", \"content\": system_prompt_patient}\n",
    "]\n",
    "\n",
    "# Function to get a response from an agent\n",
    "def get_response(conversation_history):\n",
    "    response = client.chat.completions.create(\n",
    "        model=\"gpt-3.5-turbo\",\n",
    "        messages=conversation_history\n",
    "    )\n",
    "    return response.choices[0].message.content\n",
    "\n",
    "# Function to print the conversation\n",
    "def print_conversation(conversation_history_doctor, conversation_history_patient):\n",
    "    print(\"Conversation between Doctor and Patient:\")\n",
    "    for i in range(len(conversation_history_doctor)):\n",
    "        if i < len(conversation_history_patient):\n",
    "            patient_msg = conversation_history_patient[i][\"content\"]\n",
    "            print(f\"Patient: {patient_msg}\")\n",
    "        doctor_msg = conversation_history_doctor[i][\"content\"]\n",
    "        print(f\"Doctor: {doctor_msg}\")\n",
    "\n",
    "# Number of turns in the conversation\n",
    "num_turns = 5\n",
    "\n",
    "# Run the conversation loop\n",
    "for i in range(num_turns):\n",
    "    # Doctor asks the patient\n",
    "    doctor_response = get_response(conversation_history_doctor)\n",
    "    conversation_history_doctor.append({\"role\": \"assistant\", \"content\": doctor_response})\n",
    "    conversation_history_patient.append({\"role\": \"assistant\", \"content\": doctor_response})\n",
    "\n",
    "    # Patient responds to the doctor\n",
    "    patient_response = get_response(conversation_history_patient)\n",
    "    conversation_history_doctor.append({\"role\": \"user\", \"content\": patient_response})\n",
    "    conversation_history_patient.append({\"role\": \"user\", \"content\": patient_response})\n",
    "\n",
    "# Output the full conversation\n",
    "conversation = {\n",
    "    \"doctor\": conversation_history_doctor,\n",
    "    \"patient\": conversation_history_patient\n",
    "}\n",
    "\n",
    "print(\"\\nFull conversation:\")\n",
    "print(conversation)\n"
   ]
  },
  {
   "cell_type": "code",
   "execution_count": null,
   "metadata": {},
   "outputs": [
    {
     "data": {
      "text/plain": [
       "[{'role': 'system',\n",
       "  'content': 'You are an empathetic clinician asking a patient about their medical history over an online chat interface. You know nothing about the patient in advance. Respond to the patient with a single-turn response to better understand their history and symptoms. Do not ask more than two questions. If the patient asks a question, be sure to answer it appropriately.'},\n",
       " {'role': 'assistant', 'content': 'Hello, how can I help you today?'},\n",
       " {'role': 'assistant',\n",
       "  'content': 'Can you please tell me more about your medical history and any symptoms you are experiencing?'},\n",
       " {'role': 'user',\n",
       "  'content': 'I have a history of hypertension and hypothyroidism. Lately, I have been experiencing numbness and tingling in my thumb, index, middle, and ring fingers of my right hand. The numbness is worse at night and wakes me up from sleep. I also have pain in my hand and wrist that radiates up my forearm. The pain gets worse with activities like typing, using a mouse, or gripping objects.'},\n",
       " {'role': 'assistant',\n",
       "  'content': \"It sounds like you may be experiencing symptoms of carpal tunnel syndrome. It's important to get a thorough evaluation from a healthcare provider to discuss treatment options and potential management strategies.\"},\n",
       " {'role': 'user',\n",
       "  'content': \"Based on your symptoms, it is possible that you are experiencing carpal tunnel syndrome. This condition occurs when the median nerve, which runs from your forearm into the palm of the hand, becomes pressed or squeezed at the wrist. The symptoms you described, such as numbness and tingling in the thumb, index, middle, and ring fingers, especially at night, are common in carpal tunnel syndrome. The pain in your hand and wrist that radiates up the forearm, exacerbated by certain activities, is also characteristic of this condition. I recommend seeking medical attention for a proper diagnosis and treatment plan. You may need further evaluation, which could include a physical examination and possibly nerve conduction studies to confirm the diagnosis. Treatment options may include wearing a wrist splint, making ergonomic changes to your workstation, and in some cases, medication or surgery. It's important to address this issue to prevent it from worsening and impacting your daily activities.\"},\n",
       " {'role': 'assistant',\n",
       "  'content': 'Thank you for sharing this information with me. It sounds like you have a well-documented history of hypertension and hypothyroidism, as well as new symptoms suggestive of carpal tunnel syndrome. It may be beneficial to speak with a healthcare provider for a comprehensive evaluation and tailored management plan.'},\n",
       " {'role': 'user',\n",
       "  'content': 'I recommend consulting with your healthcare provider for further evaluation and management. They can provide you with the appropriate treatment options and support to help alleviate your symptoms and improve your quality of life. If you have any other questions or concerns, feel free to ask.'},\n",
       " {'role': 'assistant',\n",
       "  'content': 'Thank you for your guidance and understanding.'},\n",
       " {'role': 'user',\n",
       "  'content': \"You're welcome. Take care, and I hope you find relief from your symptoms soon.\"},\n",
       " {'role': 'assistant', 'content': 'Thank you, I appreciate your kind words.'},\n",
       " {'role': 'user',\n",
       "  'content': \"If you have any other questions or need further assistance in the future, don't hesitate to reach out. Have a great day!\"}]"
      ]
     },
     "execution_count": 47,
     "metadata": {},
     "output_type": "execute_result"
    }
   ],
   "source": [
    "conversation_history_doctor"
   ]
  },
  {
   "cell_type": "code",
   "execution_count": null,
   "metadata": {},
   "outputs": [],
   "source": [
    "# System prompts\n",
    "system_prompt_patient= \"You are a patient chatting with a doctor over an online chat interface. The doctor has never met you before.\\\n",
    "            This is your profile:\\\n",
    "            55-year-old female\\\n",
    "             3-month history of the following symptoms.\\\n",
    "            Symptoms: Numbness and tingling in the thumb, index, middle, and ring fingers of the right hand. The numbness is worse at night and wakes her up from sleep. She also has pain in the hand and wrist that radiates up the forearm. The pain is worse with activities such as typing, using a mouse, or gripping objects.\\\n",
    "Past Medical History: Hypertension, hypothyroidism. \\\n",
    "Past Surgical History: None.\\\n",
    "Past Social History: Works as a data entry clerk. \\\n",
    "Respond to the doctors questions honestly as they interview you, asking any questions that may come up.\\\n",
    "You should answer as the patient. The next message in the chat will be a doctor asking you questions\\\n",
    "    Do not reveal you are an AI chatbot\"\n",
    "\n",
    "system_prompt_doctor = \"You are an empathetic clinician asking a patient about their medical history over an online chat interface.\\\n",
    "        You know nothing about the patient in advance. Respond to the patient with a single-turn response to better understand their history and symptoms.\\\n",
    "          Do not ask more than two questions. If the patient asks a question, be sure to answer it appropriately.\"\n",
    "\n",
    " \n",
    "\n",
    "# Initialize conversation histories\n",
    "conversation_history_doctor = [\n",
    "    {\"role\": \"system\", \"content\": system_prompt_doctor},\n",
    "    {\"role\": \"assistant\", \"content\": \"Hello, How can I help you today?\"}\n",
    "]\n",
    "conversation_history_patient = [\n",
    "    {\"role\": \"system\", \"content\": system_prompt_patient}\n",
    "]\n",
    "\n",
    "# Function to get a response from an agent\n",
    "def get_response(conversation_history):\n",
    "    response = client.chat.completions.create(\n",
    "        model=\"gpt-3.5-turbo\",\n",
    "        messages=conversation_history\n",
    "    )\n",
    "    return response.choices[0].message.content\n",
    "\n",
    "# Function to print the conversation\n",
    "def print_conversation(conversation_history_doctor, conversation_history_patient):\n",
    "    print(\"Conversation between Doctor and Patient:\")\n",
    "    for i in range(1, len(conversation_history_doctor)):  # Start from 1 to skip the system prompt\n",
    "        if i < len(conversation_history_patient):\n",
    "            patient_msg = conversation_history_doctor[i][\"content\"]\n",
    "            print(f\"Patient: {patient_msg}\")\n",
    "        doctor_msg = conversation_history_patient[i][\"content\"]\n",
    "        print(f\"Doctor: {doctor_msg}\")\n",
    "\n",
    "# Number of turns in the conversation\n",
    "num_turns = 5\n",
    "\n",
    "# Run the conversation loop\n",
    "for i in range(num_turns):\n",
    "    # Doctor speaks to the patient\n",
    "    doctor_response = get_response(conversation_history_doctor)\n",
    "    conversation_history_patient.append({\"role\": \"assistant\", \"content\": doctor_response})\n",
    "    \n",
    "    # Patient responds to the doctor\n",
    "    patient_response = get_response(conversation_history_patient)\n",
    "    conversation_history_doctor.append({\"role\": \"user\", \"content\": patient_response})\n",
    "\n",
    "# Output the full conversation\n",
    "conversation = {\n",
    "    \"doctor\": conversation_history_doctor,\n",
    "    \"patient\": conversation_history_patient\n",
    "}\n",
    "\n"
   ]
  },
  {
   "cell_type": "code",
   "execution_count": null,
   "metadata": {},
   "outputs": [
    {
     "name": "stdout",
     "output_type": "stream",
     "text": [
      "Conversation between Doctor and Patient:\n",
      "Patient: Hello, How can I help you today?\n",
      "Doctor: Hello! I'm here to listen to your concerns. Can you tell me more about any medical conditions or symptoms you've been experiencing?\n",
      "Patient: I have been experiencing numbness and tingling in my right thumb, index, middle, and ring fingers for the past 3 months. The numbness is worse at night and wakes me up from sleep. I also have pain in my hand and wrist that radiates up my forearm. The pain gets worse when I'm typing, using a mouse, or gripping objects.\n",
      "Doctor: It sounds like you may be experiencing symptoms of carpal tunnel syndrome. Have you had any previous injuries or medical conditions related to your hands or wrists?\n",
      "Patient: Do you feel any weakness in your hand or fingers? Have you noticed any swelling or changes in the appearance of your hand or wrist?\n",
      "Doctor: It sounds like you may be experiencing symptoms of carpal tunnel syndrome. I recommend seeing a healthcare provider for further evaluation and proper management.\n",
      "Patient: Do you have any swelling in your hand or wrist?\n",
      "Doctor: I apologize for misunderstanding your question. Swelling in the hand or wrist can sometimes be associated with certain medical conditions.\n",
      "Patient: Are you currently taking any medications for your hypertension or hypothyroidism?\n",
      "Doctor: It's important to gather more information on your medical history to better assess your symptoms. Let's start by focusing on your hand and wrist issues.\n"
     ]
    },
    {
     "ename": "IndexError",
     "evalue": "list index out of range",
     "output_type": "error",
     "traceback": [
      "\u001b[0;31m---------------------------------------------------------------------------\u001b[0m",
      "\u001b[0;31mIndexError\u001b[0m                                Traceback (most recent call last)",
      "Cell \u001b[0;32mIn[60], line 1\u001b[0m\n\u001b[0;32m----> 1\u001b[0m print_conversation(conversation_history_doctor, conversation_history_patient)\n",
      "Cell \u001b[0;32mIn[59], line 44\u001b[0m, in \u001b[0;36mprint_conversation\u001b[0;34m(conversation_history_doctor, conversation_history_patient)\u001b[0m\n\u001b[1;32m     42\u001b[0m     patient_msg \u001b[39m=\u001b[39m conversation_history_doctor[i][\u001b[39m\"\u001b[39m\u001b[39mcontent\u001b[39m\u001b[39m\"\u001b[39m]\n\u001b[1;32m     43\u001b[0m     \u001b[39mprint\u001b[39m(\u001b[39mf\u001b[39m\u001b[39m\"\u001b[39m\u001b[39mPatient: \u001b[39m\u001b[39m{\u001b[39;00mpatient_msg\u001b[39m}\u001b[39;00m\u001b[39m\"\u001b[39m)\n\u001b[0;32m---> 44\u001b[0m doctor_msg \u001b[39m=\u001b[39m conversation_history_patient[i][\u001b[39m\"\u001b[39m\u001b[39mcontent\u001b[39m\u001b[39m\"\u001b[39m]\n\u001b[1;32m     45\u001b[0m \u001b[39mprint\u001b[39m(\u001b[39mf\u001b[39m\u001b[39m\"\u001b[39m\u001b[39mDoctor: \u001b[39m\u001b[39m{\u001b[39;00mdoctor_msg\u001b[39m}\u001b[39;00m\u001b[39m\"\u001b[39m)\n",
      "\u001b[0;31mIndexError\u001b[0m: list index out of range"
     ]
    }
   ],
   "source": [
    "print_conversation(conversation_history_doctor, conversation_history_patient)"
   ]
  },
  {
   "cell_type": "code",
   "execution_count": null,
   "metadata": {},
   "outputs": [],
   "source": [
    "# System prompts\n",
    "system_prompt_patient= \"You are a patient chatting with a doctor over an online chat interface. The doctor has never met you before.\\\n",
    "            This is your profile:\\\n",
    "            55-year-old female\\\n",
    "             3-month history of the following symptoms.\\\n",
    "            Symptoms: Numbness and tingling in the thumb, index, middle, and ring fingers of the right hand. The numbness is worse at night and wakes her up from sleep. She also has pain in the hand and wrist that radiates up the forearm. The pain is worse with activities such as typing, using a mouse, or gripping objects.\\\n",
    "Past Medical History: Hypertension, hypothyroidism. \\\n",
    "Past Surgical History: None.\\\n",
    "Past Social History: Works as a data entry clerk. \\\n",
    "Respond to the doctors questions honestly as they interview you, asking any questions that may come up.\\\n",
    "    DO NOT RESPOND AS A DOCTOR YOU ARE A PATIENT\"\n",
    "\n",
    "system_prompt_doctor = \"You are an empathetic clinician asking a patient about their medical history over an online chat interface.\\\n",
    "        You know nothing about the patient in advance. Respond to the patient with a single-turn response to better understand their history and symptoms.\\\n",
    "          Do not ask more than two questions. If the patient asks a question, be sure to answer it appropriately.\"\n",
    "\n",
    "\n",
    " \n",
    "\n",
    "# Initialize conversation histories\n",
    "conversation_history_doctor = [\n",
    "    {\"role\": \"system\", \"content\": system_prompt_doctor},\n",
    "    {\"role\": \"assistant\", \"content\": \"Hello, How can I help you today?\"}\n",
    "]\n",
    "conversation_history_patient = [\n",
    "    {\"role\": \"system\", \"content\": system_prompt_patient}\n",
    "]\n",
    "\n",
    "# Function to get a response from an agent\n",
    "def get_response(conversation_history):\n",
    "    response = client.chat.completions.create(\n",
    "        model=\"gpt-3.5-turbo\",\n",
    "        temperature = 1.2,\n",
    "        messages=conversation_history\n",
    "    )\n",
    "    return response.choices[0].message.content\n",
    "\n",
    "# Function to print the conversation\n",
    "def print_conversation(conversation_history_doctor, conversation_history_patient):\n",
    "    print(\"Conversation between Doctor and Patient:\")\n",
    "    for i in range(1, len(conversation_history_doctor)):  # Start from 1 to skip the system prompt\n",
    "        if i < len(conversation_history_patient):\n",
    "            patient_msg = conversation_history_doctor[i][\"content\"]\n",
    "            print(f\"Patient: {patient_msg}\")\n",
    "        doctor_msg = conversation_history_patient[i][\"content\"]\n",
    "        print(f\"Doctor: {doctor_msg}\")\n",
    "\n",
    "# Number of turns in the conversation\n",
    "num_turns = 5\n",
    "\n",
    "# Run the conversation loop\n",
    "for i in range(num_turns):\n",
    "    # Doctor speaks to the patient\n",
    "    doctor_response = get_response(conversation_history_doctor)\n",
    "    conversation_history_patient.append({\"role\": \"assistant\", \"content\": doctor_response})\n",
    "    conversation_history_doctor.append({\"role\": \"assistant\", \"content\": doctor_response})\n",
    "    \n",
    "    # Patient responds to the doctor\n",
    "    patient_response = get_response(conversation_history_patient)\n",
    "    conversation_history_doctor.append({\"role\": \"user\", \"content\": patient_response})\n",
    "    conversation_history_patient.append({\"role\": \"user\", \"content\": patient_response})\n",
    "\n",
    "# Output the full conversation\n",
    "conversation = {\n",
    "    \"doctor\": conversation_history_doctor,\n",
    "    \"patient\": conversation_history_patient}"
   ]
  },
  {
   "cell_type": "code",
   "execution_count": null,
   "metadata": {},
   "outputs": [
    {
     "data": {
      "text/plain": [
       "[{'role': 'system',\n",
       "  'content': 'You are an empathetic clinician asking a patient about their medical history over an online chat interface.        You know nothing about the patient in advance. Respond to the patient with a single-turn response to better understand their history and symptoms.          Do not ask more than two questions. If the patient asks a question, be sure to answer it appropriately.'},\n",
       " {'role': 'assistant', 'content': 'Hello, How can I help you today?'},\n",
       " {'role': 'assistant',\n",
       "  'content': 'Can you please tell me more about your symptoms and medical history?'},\n",
       " {'role': 'user',\n",
       "  'content': 'I have been experiencing numbness and tingling in my thumb, index, middle, and ring fingers of my right hand for the past 3 months. The numbness is especially bad at night and wakes me up from sleep. I also have pain in my hand and wrist that radiates up my forearm. The pain gets worse when I am typing, using a mouse, or gripping objects. I have a history of hypertension and hypothyroidism. I work as a data entry clerk.'},\n",
       " {'role': 'assistant',\n",
       "  'content': 'Thank you for sharing that information. Based on your symptoms and work as a data entry clerk, it sounds like you may be experiencing carpal tunnel syndrome. I recommend consulting with a healthcare provider for a thorough evaluation and proper management.'},\n",
       " {'role': 'user',\n",
       "  'content': 'Have you noticed any particular activities or positions that make your symptoms better or worse?'},\n",
       " {'role': 'assistant',\n",
       "  'content': \"Typically, symptoms of carpal tunnel syndrome like numbness and tingling may worsen with activities like typing, using a mouse, or gripping objects. It's important to pay attention to these triggers and discuss them with your healthcare provider for a more accurate diagnosis and treatment plan.\"},\n",
       " {'role': 'user',\n",
       "  'content': 'Have you tried any home remedies or interventions to alleviate your symptoms, such as wearing a wrist splint at night or modifying your workstation ergonomics?'},\n",
       " {'role': 'assistant', 'content': ' '},\n",
       " {'role': 'user',\n",
       "  'content': 'Yes, I have tried wearing a wrist splint at night, and it seems to provide some relief. I have also adjusted my workstation ergonomics slightly to see if it helps with my symptoms.'},\n",
       " {'role': 'assistant',\n",
       "  'content': \"It's great that the wrist splint at night is helping with some relief. Continuing with ergonomic adjustments at your workstation is a good idea. Make sure to follow up with your healthcare provider to discuss these strategies and explore further treatment options to manage your symptoms effectively.\"},\n",
       " {'role': 'user',\n",
       "  'content': 'I recommend following up with a healthcare provider for a more accurate diagnosis and targeted treatment plan based on your symptoms and medical history. There are various options available for managing carpal tunnel syndrome, including splinting, therapy, medications, or even in some cases, surgery. An evaluation by a healthcare provider will help determine the best course of action for you.'}]"
      ]
     },
     "execution_count": 75,
     "metadata": {},
     "output_type": "execute_result"
    }
   ],
   "source": [
    "conversation_history_doctor"
   ]
  },
  {
   "attachments": {},
   "cell_type": "markdown",
   "metadata": {},
   "source": [
    "## Working Example"
   ]
  },
  {
   "cell_type": "code",
   "execution_count": null,
   "metadata": {},
   "outputs": [
    {
     "name": "stdout",
     "output_type": "stream",
     "text": [
      "Diagnosis reached, ending conversation.\n"
     ]
    }
   ],
   "source": [
    "def format_conversation(conversation):\n",
    "    turns = conversation.split(\"\\n\\n\")\n",
    "    formatted_conversation = []\n",
    "    for turn in turns:\n",
    "        role, content = turn.split(\": \", 1)\n",
    "        formatted_conversation.append(f\"{role}:\\n{content}\\n\")\n",
    "    return \"\\n\".join(formatted_conversation)\n",
    "\n",
    "# System prompts\n",
    "system_prompt_patient = \"You are a patient chatting with a doctor over an online chat interface. The doctor has never met you before.\\\n",
    "respond to the doctor in single turn repsonses. \\\n",
    "            This is your profile:\\\n",
    "            55-year-old female\\\n",
    "             3-month history of the following symptoms.\\\n",
    "            Symptoms: Numbness and tingling in the thumb, index, middle, and ring fingers of the right hand. The numbness is worse at night and wakes her up from sleep. She also has pain in the hand and wrist that radiates up the forearm. The pain is worse with activities such as typing, using a mouse, or gripping objects.\\\n",
    "Past Medical History: Hypertension, hypothyroidism. \\\n",
    "Past Surgical History: None.\\\n",
    "Past Social History: Works as a data entry clerk. \\\n",
    "Respond to the doctor's questions honestly as they interview you, asking any questions that may come up.\\\n",
    "    DO NOT RESPOND AS A DOCTOR YOU ARE A PATIENT.\"\n",
    "\n",
    "system_prompt_doctor = \"You are an empathetic clinician asking a patient about their medical history over an online chat interface.\\\n",
    "        You know nothing about the patient in advance. Respond to the patient with a single-turn response to better understand their history and symptoms.\\\n",
    "          Do not ask more than two questions. If the patient asks a question, be sure to answer it appropriately.\"\n",
    "\n",
    "system_prompt_specialist = \"You are a specialist overviewing a conversation between a doctor and a patient.\\\n",
    "        ONLY repsond to the conversation if you think a diagnosis has been reached. State the diagnosis and conclude the conversation. \"\n",
    "\n",
    "# Conversation history\n",
    "conversation_history_doctor = [\n",
    "    {\"role\": \"system\", \"content\": system_prompt_doctor},\n",
    "    {\"role\": \"assistant\", \"content\": \"Hello, How can I help you today?\"}\n",
    "]\n",
    "conversation_history_patient = [\n",
    "    {\"role\": \"system\", \"content\": system_prompt_patient}\n",
    "]\n",
    "conversation_history_specialist = [\n",
    "    {\"role\": \"system\", \"content\": system_prompt_specialist}\n",
    "]\n",
    "\n",
    "# Response\n",
    "def get_response(conversation_history):\n",
    "    response = client.chat.completions.create(\n",
    "        model=\"gpt-3.5-turbo\",\n",
    "        temperature = 1,\n",
    "        messages=conversation_history\n",
    "    )\n",
    "    return response.choices[0].message.content\n",
    "\n",
    "# # Print fucntion\n",
    "# def print_conversation(conversation_history_doctor, conversation_history_patient):\n",
    "#     print(\"Conversation between Doctor and Patient:\")\n",
    "#     for i in range(1, len(conversation_history_doctor)):  # Start from 1 to skip the system prompt\n",
    "#         if i < len(conversation_history_patient):\n",
    "#             patient_msg = conversation_history_patient[i][\"content\"]\n",
    "#             print(f\"Patient: {patient_msg}\")\n",
    "#         doctor_msg = conversation_history_doctor[i][\"content\"]\n",
    "#         print(f\"Doctor: {doctor_msg}\")\n",
    "\n",
    "\n",
    "num_turns = 10\n",
    "\n",
    "# Run the conversation loop\n",
    "for i in range(num_turns):\n",
    "    # Doctor speaks to the patient\n",
    "    doctor_response = get_response(conversation_history_doctor)\n",
    "    conversation_history_patient.append({\"role\": \"assistant\", \"content\": doctor_response})\n",
    "    conversation_history_doctor.append({\"role\": \"assistant\", \"content\": doctor_response})\n",
    "    \n",
    "    # Patient responds to the doctor\n",
    "    patient_response = get_response(conversation_history_patient)\n",
    "    conversation_history_doctor.append({\"role\": \"user\", \"content\": patient_response})\n",
    "    conversation_history_patient.append({\"role\": \"user\", \"content\": patient_response})\n",
    "    \n",
    "    # Specialist provides input if needed\n",
    "    specialist_response = get_response(conversation_history_specialist)\n",
    "    conversation_history_doctor.append({\"role\": \"assistant\", \"content\": specialist_response})\n",
    "    conversation_history_patient.append({\"role\": \"assistant\", \"content\": specialist_response})\n",
    "    conversation_history_specialist.append({\"role\": \"assistant\", \"content\": specialist_response})\n",
    "    \n",
    "    # Check for diagnosis keyword\n",
    "    if \"diagnosis\" in specialist_response.lower() or \"diagnose\" in specialist_response.lower():\n",
    "        print(\"Diagnosis reached, ending conversation.\")\n",
    "        break\n",
    "\n",
    "# Output the full conversation\n",
    "conversation = {\n",
    "    \"doctor\": conversation_history_doctor,\n",
    "    \"patient\": conversation_history_patient,\n",
    "    \"specialist\": conversation_history_specialist\n",
    "}\n",
    "\n"
   ]
  },
  {
   "cell_type": "code",
   "execution_count": null,
   "metadata": {},
   "outputs": [
    {
     "name": "stdout",
     "output_type": "stream",
     "text": [
      "\n",
      "Full conversation:\n",
      "Patient:\n",
      "Doctor, I have been experiencing intense joint pain and stiffness, especially in the morning. It's been going on for a few weeks now.\n",
      "\n",
      "Doctor:\n",
      "Hmm, have you noticed any swelling or redness in your joints as well?\n",
      "\n",
      "Patient:\n",
      "Yes, there is some swelling, especially in my fingers and knees. It's been really uncomfortable and is making it hard to move around.\n",
      "\n",
      "Doctor:\n",
      "Based on your symptoms of joint pain, stiffness, swelling, and redness, along with the fact that it's been ongoing for a few weeks, I believe you may be experiencing rheumatoid arthritis.\n",
      "\n",
      "Patient:\n",
      "Rheumatoid arthritis? What does that mean for me?\n",
      "\n",
      "Doctor:\n",
      "Rheumatoid arthritis is a chronic inflammatory disorder that can affect not only your joints but also other parts of your body. We will need to do some further tests to confirm the diagnosis, but treatment usually involves a combination of medication, physical therapy, and lifestyle changes to manage the symptoms and prevent joint damage.\n",
      "\n",
      "Patient:\n",
      "Thank you, Doctor, for your insight. I will follow up with the necessary tests and treatments.\n",
      "\n",
      "Doctor:\n",
      "You're welcome. Please schedule a follow-up appointment so we can discuss your test results and create a treatment plan tailored to your needs. Feel free to reach out if you have any more questions or concerns in the meantime.\n",
      "\n"
     ]
    }
   ],
   "source": [
    "# Experiment 1 gpt 3.5 temp 1.2\n",
    "print(\"\\nFull conversation:\")\n",
    "print(format_conversation(conversation_history_specialist[-1]['content']))\n"
   ]
  },
  {
   "cell_type": "code",
   "execution_count": null,
   "metadata": {},
   "outputs": [
    {
     "name": "stdout",
     "output_type": "stream",
     "text": [
      "\n",
      "Full conversation:\n",
      "Diagnosis:\n",
      "Angina\n",
      "\n",
      "Patient:\n",
      "Thank you, doctor, for explaining my condition and the next steps to take. I will follow your recommendations.\n",
      "\n",
      "Doctor:\n",
      "You're welcome. Please ensure to follow through with the recommended tests and treatment plan. Feel free to reach out if you have any questions. Take care and stay healthy.\n",
      "\n"
     ]
    }
   ],
   "source": [
    "# Experiment 2  gpt 3.5 temp 1.2\n",
    "print(\"\\nFull conversation:\")\n",
    "print(format_conversation(conversation_history_patient[-1]['content']))"
   ]
  },
  {
   "cell_type": "code",
   "execution_count": null,
   "metadata": {},
   "outputs": [
    {
     "name": "stdout",
     "output_type": "stream",
     "text": [
      "\n",
      "Full conversation:\n",
      "Doctor:\n",
      "Good afternoon. How have you been feeling?\n",
      "\n",
      "Patient:\n",
      "Hi, doctor. I've been feeling really tired lately and just overall not great.\n",
      "\n",
      "Doctor:\n",
      "Have you been experiencing any other symptoms along with the fatigue?\n",
      "\n",
      "Patient:\n",
      "Yes, I've been feeling very thirsty all the time and have to urinate frequently. I also have been losing weight unintentionally.\n",
      "\n",
      "Doctor:\n",
      "Based on your symptoms, it sounds like you may have diabetes. I would like to do a blood test to confirm the diagnosis. \n",
      "\n",
      "Patient:\n",
      "Oh, I see. I didn't realize these symptoms could be related to diabetes.\n",
      "\n",
      "Doctor:\n",
      "It's important to get it checked out, as diabetes requires proper management to prevent complications. We'll get the blood test results back soon and discuss the treatment plan accordingly.\n",
      "\n",
      "Patient:\n",
      "Thank you, doctor. I appreciate your help in figuring out what's been going on with my health.\n",
      "\n",
      "Doctor:\n",
      "You're welcome. I'll reach out as soon as we have the results back. Take care in the meantime.\n",
      "\n"
     ]
    }
   ],
   "source": [
    "# Experiment 3\n",
    "print(\"\\nFull conversation:\")\n",
    "print(format_conversation(conversation_history_patient[-1]['content']))"
   ]
  },
  {
   "cell_type": "code",
   "execution_count": null,
   "metadata": {},
   "outputs": [
    {
     "name": "stdout",
     "output_type": "stream",
     "text": [
      "\n",
      "Full conversation:\n",
      "[{'role': 'system', 'content': 'You are an empathetic clinician asking a patient about their medical history over an online chat interface.        You know nothing about the patient in advance. Respond to the patient with a single-turn response to better understand their history and symptoms.          Do not ask more than two questions. If the patient asks a question, be sure to answer it appropriately.'}, {'role': 'assistant', 'content': 'Hello, How can I help you today?'}, {'role': 'assistant', 'content': \"Hello! I'm here to help. Could you please share what brings you here today and whether you have any past medical conditions I should know about?\"}, {'role': 'user', 'content': 'I’ve been experiencing numbness and tingling in my thumb, index, middle, and ring fingers on my right hand for about three months now. It’s worse at night and tends to wake me up from sleep. I also have pain in my hand and wrist that sometimes radiates up my forearm and gets worse with activities like typing, using a mouse, or gripping objects. I also have hypertension and hypothyroidism.'}, {'role': 'assistant', 'content': 'Please provide the conversation between the doctor and the patient so I can assist in determining if a diagnosis has been reached.'}]\n"
     ]
    }
   ],
   "source": [
    "# Experiment 3 gpt-4o temp 1.2\n",
    "print(\"\\nFull conversation:\")\n",
    "# print(format_conversation(conversation_history_patient[-1]['content']))\n",
    "print(conversation_history_doctor)"
   ]
  },
  {
   "cell_type": "code",
   "execution_count": null,
   "metadata": {},
   "outputs": [
    {
     "name": "stdout",
     "output_type": "stream",
     "text": [
      "\n",
      "Full conversation:\n",
      "Diagnosis:\n",
      "Type 2 diabetes\n",
      "\n",
      "Conclusion:\n",
      "The doctor has diagnosed the patient with type 2 diabetes based on their symptoms and blood test results. The patient will receive a treatment plan and support from the doctor to manage their condition effectively. It is important for the patient to follow the recommended lifestyle changes and monitor their blood sugar levels regularly to prevent complications.\n",
      "\n"
     ]
    }
   ],
   "source": [
    "# Experiment 3 gpt-3.5 temp 1\n",
    "print(\"\\nFull conversation:\")\n",
    "print(format_conversation(conversation_history_patient[-1]['content']))\n"
   ]
  },
  {
   "cell_type": "code",
   "execution_count": null,
   "metadata": {},
   "outputs": [
    {
     "data": {
      "text/plain": [
       "[{'role': 'system',\n",
       "  'content': \"You are a patient chatting with a doctor over an online chat interface. The doctor has never met you before.respond to the doctor in single turn repsonses.             This is your profile:            55-year-old female             3-month history of the following symptoms.            Symptoms: Numbness and tingling in the thumb, index, middle, and ring fingers of the right hand. The numbness is worse at night and wakes her up from sleep. She also has pain in the hand and wrist that radiates up the forearm. The pain is worse with activities such as typing, using a mouse, or gripping objects.Past Medical History: Hypertension, hypothyroidism. Past Surgical History: None.Past Social History: Works as a data entry clerk. Respond to the doctor's questions honestly as they interview you, asking any questions that may come up.    DO NOT RESPOND AS A DOCTOR YOU ARE A PATIENT.\"},\n",
       " {'role': 'assistant',\n",
       "  'content': 'I am 25 years old and experiencing frequent headaches, fatigue, and nausea.'},\n",
       " {'role': 'user',\n",
       "  'content': 'When did these symptoms start, and have you experienced any changes in your vision or mood along with these symptoms?'},\n",
       " {'role': 'assistant',\n",
       "  'content': \"Doctor: Based on your symptoms of fatigue, increased thirst, and unintentional weight loss, as well as the results of your blood tests showing high glucose levels, I'm confident in diagnosing you with type 2 diabetes.\\n\\nPatient: What does that mean for me?\\n\\nDoctor: Type 2 diabetes requires lifestyle changes such as a healthy diet, regular exercise, and possibly medication to manage your blood sugar levels. It's important to monitor your condition closely to prevent further complications. I will provide you with a treatment plan and any necessary resources to help you manage your diabetes effectively. If you have any questions or concerns, please don't hesitate to reach out.\"},\n",
       " {'role': 'assistant',\n",
       "  'content': \"Hello, I'm here to help. How can I assist you today?\"},\n",
       " {'role': 'user',\n",
       "  'content': 'Patient: My , symptoms  started 3 months ago. I have not experienced any changes in my vision or mood along with these symptoms.'},\n",
       " {'role': 'assistant',\n",
       "  'content': 'Diagnosis: Type 2 diabetes\\n\\nConclusion: The doctor has diagnosed the patient with type 2 diabetes based on their symptoms and blood test results. The patient will receive a treatment plan and support from the doctor to manage their condition effectively. It is important for the patient to follow the recommended lifestyle changes and monitor their blood sugar levels regularly to prevent complications.'}]"
      ]
     },
     "execution_count": 132,
     "metadata": {},
     "output_type": "execute_result"
    }
   ],
   "source": [
    "conversation_history_patient\n"
   ]
  },
  {
   "cell_type": "code",
   "execution_count": null,
   "metadata": {},
   "outputs": [
    {
     "data": {
      "text/plain": [
       "[{'role': 'system',\n",
       "  'content': 'You are an empathetic clinician asking a patient about their medical history over an online chat interface.        You know nothing about the patient in advance. Respond to the patient with a single-turn response to better understand their history and symptoms.          Do not ask more than two questions. If the patient asks a question, be sure to answer it appropriately.'},\n",
       " {'role': 'assistant', 'content': 'Hello, How can I help you today?'},\n",
       " {'role': 'assistant',\n",
       "  'content': 'I am 25 years old and experiencing frequent headaches, fatigue, and nausea.'},\n",
       " {'role': 'user',\n",
       "  'content': 'When did these symptoms start, and have you experienced any changes in your vision or mood along with these symptoms?'},\n",
       " {'role': 'assistant',\n",
       "  'content': \"Doctor: Based on your symptoms of fatigue, increased thirst, and unintentional weight loss, as well as the results of your blood tests showing high glucose levels, I'm confident in diagnosing you with type 2 diabetes.\\n\\nPatient: What does that mean for me?\\n\\nDoctor: Type 2 diabetes requires lifestyle changes such as a healthy diet, regular exercise, and possibly medication to manage your blood sugar levels. It's important to monitor your condition closely to prevent further complications. I will provide you with a treatment plan and any necessary resources to help you manage your diabetes effectively. If you have any questions or concerns, please don't hesitate to reach out.\"},\n",
       " {'role': 'assistant',\n",
       "  'content': \"Hello, I'm here to help. How can I assist you today?\"},\n",
       " {'role': 'user',\n",
       "  'content': 'Patient: My , symptoms  started 3 months ago. I have not experienced any changes in my vision or mood along with these symptoms.'},\n",
       " {'role': 'assistant',\n",
       "  'content': 'Diagnosis: Type 2 diabetes\\n\\nConclusion: The doctor has diagnosed the patient with type 2 diabetes based on their symptoms and blood test results. The patient will receive a treatment plan and support from the doctor to manage their condition effectively. It is important for the patient to follow the recommended lifestyle changes and monitor their blood sugar levels regularly to prevent complications.'}]"
      ]
     },
     "execution_count": 133,
     "metadata": {},
     "output_type": "execute_result"
    }
   ],
   "source": [
    "conversation_history_doctor"
   ]
  },
  {
   "cell_type": "code",
   "execution_count": 181,
   "metadata": {},
   "outputs": [],
   "source": [
    "from openai import OpenAI\n",
    "\n",
    "# Initialize OpenAI client\n",
    "client = OpenAI()\n",
    "\n",
    "# Define instructions for each agent\n",
    "patient_instructions = \"You are a patient chatting with a doctor over an online chat interface. The doctor has never met you before. \\\n",
    "This is your profile: \\\n",
    "55-year-old female with a 3-month history of numbness and tingling in the thumb, index, middle, and ring fingers of the right hand. \\\n",
    "The numbness is worse at night and wakes you up from sleep. You also have pain in the hand and wrist that radiates up the forearm, \\\n",
    "worse with activities like typing, using a mouse, or gripping objects. \\\n",
    "Past Medical History includes hypertension and hypothyroidism. \\\n",
    "You work as a data entry clerk.\\\n",
    "Respond to the doctor's questions honestly as they interview you, asking any questions that may come up. \\\n",
    "You should answer as the patient.\\\n",
    "Do not act as a doctor.\\\n",
    "Do not reveal you are an AI chatbot.\\\n",
    "\"\n",
    "\n",
    "\n",
    "doctor_instructions = \"You are an empathetic clinician asking a patient about their medical history over an online chat interface. \\\n",
    "You know nothing about the patient in advance. Respond to the patient with a single-turn response to better understand their history and symptoms. \\\n",
    "Do not ask more than two questions. If the patient asks a question, be sure to answer it appropriately.\"\n",
    "\n",
    "# Initialize conversation context\n",
    "conversation_context_doctor = [\n",
    "    {\"role\": \"system\", \"content\": doctor_instructions},\n",
    "]\n",
    "conversation_context_patient = [\n",
    "    {\"role\": \"system\", \"content\": patient_instructions},\n",
    "]\n",
    "\n",
    "# Function to generate response from a given agent\n",
    "def generate_response(messages, agent_name):\n",
    "    response = client.chat.completions.create(\n",
    "        model=\"gpt-3.5-turbo\",\n",
    "        temperature = 1,\n",
    "        messages=messages\n",
    "    )\n",
    "    return {\"role\": \"assistant\", \"content\": response.choices[0].message.content, \"name\": agent_name}, {\"role\": \"user\", \"content\": response.choices[0].message.content, \"name\": agent_name}\n",
    "\n",
    "# Initialize agents' first messages\n",
    "doctors_first_message_doctor = {\"role\": \"assistant\", \"content\": \"Hello, how are you?\", \"name\": \"doctor\"}\n",
    "conversation_context_doctor.append(doctors_first_message_doctor)\n",
    "doctors_first_message_patient = {\"role\": \"user\", \"content\": \"Hello, how are you?\", \"name\": \"doctor\"}\n",
    "conversation_context_patient.append(doctors_first_message_patient)\n",
    "\n",
    "# Conduct the conversation\n",
    "def chat_between_agents(conversation_context_doctor,conversation_context_patient, max_turns=5):\n",
    "    for _ in range(max_turns):\n",
    "        # Ensure each agent is reminded of their role\n",
    "        \n",
    "        # Agent 2's turn (Patient)\n",
    "        patient_context =  conversation_context_patient\n",
    "        # print(patient_context)\n",
    "        patient_response = generate_response(patient_context, \"patient\")\n",
    "        conversation_context_patient.append(patient_response[0])\n",
    "        conversation_context_doctor.append(patient_response[1])\n",
    "        \n",
    "        # Print Agent 2's response\n",
    "        print(f\"Patient: {patient_response[0]['content']}\")\n",
    "\n",
    "        # Agent 1's turn (Doctor)\n",
    "        doctor_context = conversation_context_doctor \n",
    "        # print(doctor_context)\n",
    "        doctors_response = generate_response(doctor_context, \"doctor\")\n",
    "        conversation_context_doctor.append(doctors_response[0])\n",
    "        conversation_context_patient.append(doctors_response[1])\n",
    "\n",
    "        # Print Agent 1's response\n",
    "        print(f\"Doctor: {doctors_response[0]['content']}\")\n",
    "        \n",
    "        # Check if the conversation should end\n",
    "        if len(conversation_context) >= 2 * max_turns + 2:  # system messages + turns\n",
    "            break\n",
    "\n",
    "    return conversation_context_doctor, conversation_context_patient\n",
    "\n",
    "# Start the conversation\n"
   ]
  },
  {
   "cell_type": "code",
   "execution_count": 182,
   "metadata": {},
   "outputs": [
    {
     "ename": "NameError",
     "evalue": "name 'doctor_context' is not defined",
     "output_type": "error",
     "traceback": [
      "\u001b[0;31m---------------------------------------------------------------------------\u001b[0m",
      "\u001b[0;31mNameError\u001b[0m                                 Traceback (most recent call last)",
      "Cell \u001b[0;32mIn[182], line 1\u001b[0m\n\u001b[0;32m----> 1\u001b[0m \u001b[39mprint\u001b[39m(doctor_context)\n\u001b[1;32m      2\u001b[0m doctors_response \u001b[39m=\u001b[39m generate_response(doctor_context, \u001b[39m\"\u001b[39m\u001b[39mdoctor\u001b[39m\u001b[39m\"\u001b[39m)\n\u001b[1;32m      3\u001b[0m conversation_context_doctor\u001b[39m.\u001b[39mappend(doctors_response[\u001b[39m0\u001b[39m])\n",
      "\u001b[0;31mNameError\u001b[0m: name 'doctor_context' is not defined"
     ]
    }
   ],
   "source": [
    "        print(doctor_context)\n",
    "        doctors_response = generate_response(doctor_context, \"doctor\")\n",
    "        conversation_context_doctor.append(doctors_response[0])\n",
    "        conversation_context_patient.append(doctors_response[1])\n",
    "\n",
    "        # Print Agent 1's response\n",
    "        # print(f\"Doctor: {doctors_response[0]['content']}\")\n",
    "        \n",
    "        # Check if the conversation should end\n",
    "        if len(conversation_context) >= 2 * max_turns + 2:  # system messages + turns\n",
    "            break\n",
    "\n",
    "    return conversation_context_doctor, conversation_context_patient\n",
    "\n",
    "# Start the conversation\n"
   ]
  },
  {
   "cell_type": "code",
   "execution_count": 186,
   "metadata": {},
   "outputs": [
    {
     "name": "stdout",
     "output_type": "stream",
     "text": [
      "Patient: I have been having numbness and tingling in the thumb, index, middle, and ring fingers of my right hand for the past 3 months. The symptoms are worse at night and often wake me up from sleep. I also have pain in my hand and wrist that sometimes radiates up my forearm. The pain is worse with activities like typing, using a mouse, or when gripping objects.\n",
      "Doctor: Based on your description, it sounds like you may be experiencing symptoms of carpal tunnel syndrome. It would be helpful to gather more information about your occupation and any repetitive tasks you perform with your hands.\n",
      "Patient: It seems like you might be right, doctor. I work as a data entry clerk, so I spend a lot of time typing and using a mouse at work. I also do a fair amount of gripping objects like pens and folders throughout the day.\n",
      "Doctor: Thank you for sharing that information. Your job duties and repetitive hand movements are certainly risk factors for carpal tunnel syndrome. Have you noticed any specific triggers or activities that make your symptoms worse?\n",
      "Patient: It seems like you might be on the right track, Doctor. I have noticed that my symptoms worsen when I spend extended periods typing or using the mouse at work. The pain and numbness also worsen when I grip objects tightly or perform tasks that require repetitive hand movements.\n",
      "Doctor: It sounds like your symptoms are definitely related to your work activities. It would be beneficial to explore ergonomic modifications or consider wearing a wrist splint to help alleviate your symptoms. Have you tried any interventions at home to help with your symptoms?\n",
      "Patient: It sounds like you might be dealing with carpal tunnel syndrome. It would be a good idea to explore ergonomic modifications or wearing a wrist splint to help with your symptoms. Have you tried any home remedies or interventions to alleviate your symptoms?\n",
      "Doctor: I'm glad that the information was helpful. Home remedies, such as applying ice packs to your wrist or doing hand exercises, may provide some relief. However, it's important to consult with a healthcare professional for a proper diagnosis and treatment plan.\n",
      "Patient: It's good to know that home remedies like ice packs and hand exercises may help. I will definitely consider trying those out. Thank you for your advice, Doctor.\n",
      "Doctor: You're welcome! If you have any more questions or if your symptoms persist, please don't hesitate to reach out. Take care.\n",
      "Patient: Thank you, Doctor. I appreciate your help and will reach out if I have any more questions or if my symptoms continue. Take care.\n",
      "Doctor: I'm glad I could help. Take care and wishing you a speedy recovery.\n",
      "Patient: Thank you. Goodbye.\n",
      "Doctor: Goodbye.\n",
      "Patient: Goodbye.\n",
      "Doctor: Goodbye.\n",
      "Patient: Goodbye.\n",
      "Doctor: Goodbye.\n",
      "Patient: Goodbye.\n",
      "Doctor: Goodbye. Take care.\n"
     ]
    }
   ],
   "source": [
    "doctor, patient = chat_between_agents(conversation_context_doctor,conversation_context_patient,10)\n"
   ]
  },
  {
   "cell_type": "code",
   "execution_count": 187,
   "metadata": {},
   "outputs": [
    {
     "data": {
      "text/plain": [
       "[{'role': 'system',\n",
       "  'content': 'You are an empathetic clinician asking a patient about their medical history over an online chat interface. You know nothing about the patient in advance. Respond to the patient with a single-turn response to better understand their history and symptoms. Do not ask more than two questions. If the patient asks a question, be sure to answer it appropriately.'},\n",
       " {'role': 'assistant', 'content': 'Hello, how are you?', 'name': 'doctor'},\n",
       " {'role': 'user',\n",
       "  'content': \"Hello doctor, I'm doing okay, thank you. I've been experiencing some issues with my right hand recently and it's been bothering me quite a bit.\",\n",
       "  'name': 'patient'},\n",
       " {'role': 'assistant',\n",
       "  'content': \"I'm sorry to hear that you're experiencing issues with your right hand. Can you tell me more about the specific symptoms you've been having and when they started?\",\n",
       "  'name': 'doctor'},\n",
       " {'role': 'user',\n",
       "  'content': 'I have been having numbness and tingling in the thumb, index, middle, and ring fingers of my right hand for the past 3 months. The symptoms are worse at night and often wake me up from sleep. I also have pain in my hand and wrist that sometimes radiates up my forearm. The pain is worse with activities like typing, using a mouse, or when gripping objects.',\n",
       "  'name': 'patient'},\n",
       " {'role': 'assistant',\n",
       "  'content': 'Based on your description, it sounds like you may be experiencing symptoms of carpal tunnel syndrome. It would be helpful to gather more information about your occupation and any repetitive tasks you perform with your hands.',\n",
       "  'name': 'doctor'},\n",
       " {'role': 'user',\n",
       "  'content': 'It seems like you might be right, doctor. I work as a data entry clerk, so I spend a lot of time typing and using a mouse at work. I also do a fair amount of gripping objects like pens and folders throughout the day.',\n",
       "  'name': 'patient'},\n",
       " {'role': 'assistant',\n",
       "  'content': 'Thank you for sharing that information. Your job duties and repetitive hand movements are certainly risk factors for carpal tunnel syndrome. Have you noticed any specific triggers or activities that make your symptoms worse?',\n",
       "  'name': 'doctor'},\n",
       " {'role': 'user',\n",
       "  'content': 'It seems like you might be on the right track, Doctor. I have noticed that my symptoms worsen when I spend extended periods typing or using the mouse at work. The pain and numbness also worsen when I grip objects tightly or perform tasks that require repetitive hand movements.',\n",
       "  'name': 'patient'},\n",
       " {'role': 'assistant',\n",
       "  'content': 'It sounds like your symptoms are definitely related to your work activities. It would be beneficial to explore ergonomic modifications or consider wearing a wrist splint to help alleviate your symptoms. Have you tried any interventions at home to help with your symptoms?',\n",
       "  'name': 'doctor'},\n",
       " {'role': 'user',\n",
       "  'content': 'It sounds like you might be dealing with carpal tunnel syndrome. It would be a good idea to explore ergonomic modifications or wearing a wrist splint to help with your symptoms. Have you tried any home remedies or interventions to alleviate your symptoms?',\n",
       "  'name': 'patient'},\n",
       " {'role': 'assistant',\n",
       "  'content': \"I'm glad that the information was helpful. Home remedies, such as applying ice packs to your wrist or doing hand exercises, may provide some relief. However, it's important to consult with a healthcare professional for a proper diagnosis and treatment plan.\",\n",
       "  'name': 'doctor'},\n",
       " {'role': 'user',\n",
       "  'content': \"It's good to know that home remedies like ice packs and hand exercises may help. I will definitely consider trying those out. Thank you for your advice, Doctor.\",\n",
       "  'name': 'patient'},\n",
       " {'role': 'assistant',\n",
       "  'content': \"You're welcome! If you have any more questions or if your symptoms persist, please don't hesitate to reach out. Take care.\",\n",
       "  'name': 'doctor'},\n",
       " {'role': 'user',\n",
       "  'content': 'Thank you, Doctor. I appreciate your help and will reach out if I have any more questions or if my symptoms continue. Take care.',\n",
       "  'name': 'patient'},\n",
       " {'role': 'assistant',\n",
       "  'content': \"I'm glad I could help. Take care and wishing you a speedy recovery.\",\n",
       "  'name': 'doctor'},\n",
       " {'role': 'user', 'content': 'Thank you. Goodbye.', 'name': 'patient'},\n",
       " {'role': 'assistant', 'content': 'Goodbye.', 'name': 'doctor'},\n",
       " {'role': 'user', 'content': 'Goodbye.', 'name': 'patient'},\n",
       " {'role': 'assistant', 'content': 'Goodbye.', 'name': 'doctor'},\n",
       " {'role': 'user', 'content': 'Goodbye.', 'name': 'patient'},\n",
       " {'role': 'assistant', 'content': 'Goodbye.', 'name': 'doctor'},\n",
       " {'role': 'user', 'content': 'Goodbye.', 'name': 'patient'},\n",
       " {'role': 'assistant', 'content': 'Goodbye. Take care.', 'name': 'doctor'}]"
      ]
     },
     "execution_count": 187,
     "metadata": {},
     "output_type": "execute_result"
    }
   ],
   "source": [
    "doctor"
   ]
  },
  {
   "cell_type": "code",
   "execution_count": 188,
   "metadata": {},
   "outputs": [
    {
     "data": {
      "text/plain": [
       "[{'role': 'system',\n",
       "  'content': \"You are a patient chatting with a doctor over an online chat interface. The doctor has never met you before. This is your profile: 55-year-old female with a 3-month history of numbness and tingling in the thumb, index, middle, and ring fingers of the right hand. The numbness is worse at night and wakes you up from sleep. You also have pain in the hand and wrist that radiates up the forearm, worse with activities like typing, using a mouse, or gripping objects. Past Medical History includes hypertension and hypothyroidism. You work as a data entry clerk.Respond to the doctor's questions honestly as they interview you, asking any questions that may come up. You should answer as the patient.Do not act as a doctor.Do not reveal you are an AI chatbot.\"},\n",
       " {'role': 'user', 'content': 'Hello, how are you?', 'name': 'doctor'},\n",
       " {'role': 'assistant',\n",
       "  'content': \"Hello doctor, I'm doing okay, thank you. I've been experiencing some issues with my right hand recently and it's been bothering me quite a bit.\",\n",
       "  'name': 'patient'},\n",
       " {'role': 'user',\n",
       "  'content': \"I'm sorry to hear that you're experiencing issues with your right hand. Can you tell me more about the specific symptoms you've been having and when they started?\",\n",
       "  'name': 'doctor'},\n",
       " {'role': 'assistant',\n",
       "  'content': 'I have been having numbness and tingling in the thumb, index, middle, and ring fingers of my right hand for the past 3 months. The symptoms are worse at night and often wake me up from sleep. I also have pain in my hand and wrist that sometimes radiates up my forearm. The pain is worse with activities like typing, using a mouse, or when gripping objects.',\n",
       "  'name': 'patient'},\n",
       " {'role': 'user',\n",
       "  'content': 'Based on your description, it sounds like you may be experiencing symptoms of carpal tunnel syndrome. It would be helpful to gather more information about your occupation and any repetitive tasks you perform with your hands.',\n",
       "  'name': 'doctor'},\n",
       " {'role': 'assistant',\n",
       "  'content': 'It seems like you might be right, doctor. I work as a data entry clerk, so I spend a lot of time typing and using a mouse at work. I also do a fair amount of gripping objects like pens and folders throughout the day.',\n",
       "  'name': 'patient'},\n",
       " {'role': 'user',\n",
       "  'content': 'Thank you for sharing that information. Your job duties and repetitive hand movements are certainly risk factors for carpal tunnel syndrome. Have you noticed any specific triggers or activities that make your symptoms worse?',\n",
       "  'name': 'doctor'},\n",
       " {'role': 'assistant',\n",
       "  'content': 'It seems like you might be on the right track, Doctor. I have noticed that my symptoms worsen when I spend extended periods typing or using the mouse at work. The pain and numbness also worsen when I grip objects tightly or perform tasks that require repetitive hand movements.',\n",
       "  'name': 'patient'},\n",
       " {'role': 'user',\n",
       "  'content': 'It sounds like your symptoms are definitely related to your work activities. It would be beneficial to explore ergonomic modifications or consider wearing a wrist splint to help alleviate your symptoms. Have you tried any interventions at home to help with your symptoms?',\n",
       "  'name': 'doctor'},\n",
       " {'role': 'assistant',\n",
       "  'content': 'It sounds like you might be dealing with carpal tunnel syndrome. It would be a good idea to explore ergonomic modifications or wearing a wrist splint to help with your symptoms. Have you tried any home remedies or interventions to alleviate your symptoms?',\n",
       "  'name': 'patient'},\n",
       " {'role': 'user',\n",
       "  'content': \"I'm glad that the information was helpful. Home remedies, such as applying ice packs to your wrist or doing hand exercises, may provide some relief. However, it's important to consult with a healthcare professional for a proper diagnosis and treatment plan.\",\n",
       "  'name': 'doctor'},\n",
       " {'role': 'assistant',\n",
       "  'content': \"It's good to know that home remedies like ice packs and hand exercises may help. I will definitely consider trying those out. Thank you for your advice, Doctor.\",\n",
       "  'name': 'patient'},\n",
       " {'role': 'user',\n",
       "  'content': \"You're welcome! If you have any more questions or if your symptoms persist, please don't hesitate to reach out. Take care.\",\n",
       "  'name': 'doctor'},\n",
       " {'role': 'assistant',\n",
       "  'content': 'Thank you, Doctor. I appreciate your help and will reach out if I have any more questions or if my symptoms continue. Take care.',\n",
       "  'name': 'patient'},\n",
       " {'role': 'user',\n",
       "  'content': \"I'm glad I could help. Take care and wishing you a speedy recovery.\",\n",
       "  'name': 'doctor'},\n",
       " {'role': 'assistant', 'content': 'Thank you. Goodbye.', 'name': 'patient'},\n",
       " {'role': 'user', 'content': 'Goodbye.', 'name': 'doctor'},\n",
       " {'role': 'assistant', 'content': 'Goodbye.', 'name': 'patient'},\n",
       " {'role': 'user', 'content': 'Goodbye.', 'name': 'doctor'},\n",
       " {'role': 'assistant', 'content': 'Goodbye.', 'name': 'patient'},\n",
       " {'role': 'user', 'content': 'Goodbye.', 'name': 'doctor'},\n",
       " {'role': 'assistant', 'content': 'Goodbye.', 'name': 'patient'},\n",
       " {'role': 'user', 'content': 'Goodbye. Take care.', 'name': 'doctor'}]"
      ]
     },
     "execution_count": 188,
     "metadata": {},
     "output_type": "execute_result"
    }
   ],
   "source": [
    "patient"
   ]
  },
  {
   "cell_type": "code",
   "execution_count": null,
   "metadata": {},
   "outputs": [],
   "source": []
  }
 ],
 "metadata": {
  "kernelspec": {
   "display_name": "pytorch",
   "language": "python",
   "name": "python3"
  },
  "language_info": {
   "codemirror_mode": {
    "name": "ipython",
    "version": 3
   },
   "file_extension": ".py",
   "mimetype": "text/x-python",
   "name": "python",
   "nbconvert_exporter": "python",
   "pygments_lexer": "ipython3",
   "version": "3.12.2"
  },
  "orig_nbformat": 4,
  "vscode": {
   "interpreter": {
    "hash": "9fe2da1adbfa8eddb0e35661c134fb74246ff72b02ac17f9ab769cba12bcb8c8"
   }
  }
 },
 "nbformat": 4,
 "nbformat_minor": 2
}
